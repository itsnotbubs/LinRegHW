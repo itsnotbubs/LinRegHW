{
 "cells": [
  {
   "cell_type": "code",
   "execution_count": 18,
   "id": "4fafc99b",
   "metadata": {},
   "outputs": [],
   "source": [
    "import pandas as pd\n",
    "import matplotlib.pyplot as plt\n",
    "import numpy as np\n",
    "from sklearn.linear_model import LinearRegression\n",
    "import statsmodels.api as sm\n",
    "from scipy import stats\n",
    "import seaborn as sns"
   ]
  },
  {
   "cell_type": "code",
   "execution_count": 3,
   "id": "0d75db1f",
   "metadata": {},
   "outputs": [],
   "source": [
    "df = pd.read_excel('beachfronthotels.xlsx')"
   ]
  },
  {
   "cell_type": "code",
   "execution_count": 5,
   "id": "09d0f4ed",
   "metadata": {},
   "outputs": [
    {
     "data": {
      "text/html": [
       "<div>\n",
       "<style scoped>\n",
       "    .dataframe tbody tr th:only-of-type {\n",
       "        vertical-align: middle;\n",
       "    }\n",
       "\n",
       "    .dataframe tbody tr th {\n",
       "        vertical-align: top;\n",
       "    }\n",
       "\n",
       "    .dataframe thead th {\n",
       "        text-align: right;\n",
       "    }\n",
       "</style>\n",
       "<table border=\"1\" class=\"dataframe\">\n",
       "  <thead>\n",
       "    <tr style=\"text-align: right;\">\n",
       "      <th></th>\n",
       "      <th>Hotel</th>\n",
       "      <th>Overall</th>\n",
       "      <th>Comfort</th>\n",
       "      <th>Amenities</th>\n",
       "      <th>In-House Dining</th>\n",
       "    </tr>\n",
       "  </thead>\n",
       "  <tbody>\n",
       "    <tr>\n",
       "      <th>0</th>\n",
       "      <td>Muri Beach Odyssey</td>\n",
       "      <td>94.3</td>\n",
       "      <td>94.5</td>\n",
       "      <td>90.8</td>\n",
       "      <td>97.7</td>\n",
       "    </tr>\n",
       "    <tr>\n",
       "      <th>1</th>\n",
       "      <td>Pattaya Resort</td>\n",
       "      <td>92.9</td>\n",
       "      <td>96.6</td>\n",
       "      <td>84.1</td>\n",
       "      <td>96.6</td>\n",
       "    </tr>\n",
       "    <tr>\n",
       "      <th>2</th>\n",
       "      <td>Sojourner’s Respite</td>\n",
       "      <td>92.8</td>\n",
       "      <td>99.9</td>\n",
       "      <td>100.0</td>\n",
       "      <td>88.4</td>\n",
       "    </tr>\n",
       "    <tr>\n",
       "      <th>3</th>\n",
       "      <td>Spa Carribe</td>\n",
       "      <td>91.2</td>\n",
       "      <td>88.5</td>\n",
       "      <td>94.7</td>\n",
       "      <td>97.0</td>\n",
       "    </tr>\n",
       "    <tr>\n",
       "      <th>4</th>\n",
       "      <td>Penang Resort and Spa</td>\n",
       "      <td>90.4</td>\n",
       "      <td>95.0</td>\n",
       "      <td>87.8</td>\n",
       "      <td>91.1</td>\n",
       "    </tr>\n",
       "  </tbody>\n",
       "</table>\n",
       "</div>"
      ],
      "text/plain": [
       "                   Hotel  Overall  Comfort  Amenities  In-House Dining\n",
       "0     Muri Beach Odyssey     94.3     94.5       90.8             97.7\n",
       "1         Pattaya Resort     92.9     96.6       84.1             96.6\n",
       "2    Sojourner’s Respite     92.8     99.9      100.0             88.4\n",
       "3            Spa Carribe     91.2     88.5       94.7             97.0\n",
       "4  Penang Resort and Spa     90.4     95.0       87.8             91.1"
      ]
     },
     "execution_count": 5,
     "metadata": {},
     "output_type": "execute_result"
    }
   ],
   "source": [
    "df.head()"
   ]
  },
  {
   "cell_type": "code",
   "execution_count": 20,
   "id": "bbb4f699",
   "metadata": {},
   "outputs": [
    {
     "data": {
      "text/plain": [
       "<AxesSubplot:>"
      ]
     },
     "execution_count": 20,
     "metadata": {},
     "output_type": "execute_result"
    },
    {
     "data": {
      "image/png": "[encoded data removed]",
      "text/plain": [
       "<Figure size 432x288 with 2 Axes>"
      ]
     },
     "metadata": {
      "needs_background": "light"
     },
     "output_type": "display_data"
    }
   ],
   "source": [
    "sns.heatmap(df.corr(), annot=True)"
   ]
  },
  {
   "cell_type": "code",
   "execution_count": 60,
   "id": "ed023513",
   "metadata": {},
   "outputs": [],
   "source": [
    "inputs = df[['Comfort','Amenities', 'In-House Dining']]\n",
    "#removed 'comfort' from inputs since it did not pass t test\n",
    "targets = df.Overall\n",
    "\n",
    "model = LinearRegression().fit(inputs, targets)\n",
    "\n",
    "predictions = model.predict(inputs)\n",
    "\n"
   ]
  },
  {
   "cell_type": "code",
   "execution_count": 61,
   "id": "65defc18",
   "metadata": {},
   "outputs": [],
   "source": [
    "def rms(targets, predictions):\n",
    "    return np.sqrt(np.mean(np.square(targets - predictions)))"
   ]
  },
  {
   "cell_type": "code",
   "execution_count": 62,
   "id": "28c0bcd5",
   "metadata": {},
   "outputs": [
    {
     "data": {
      "text/plain": [
       "1.241351618639762"
      ]
     },
     "execution_count": 62,
     "metadata": {},
     "output_type": "execute_result"
    }
   ],
   "source": [
    "rms(targets, predictions)"
   ]
  },
  {
   "cell_type": "code",
   "execution_count": 63,
   "id": "3fa07f62",
   "metadata": {},
   "outputs": [
    {
     "data": {
      "text/plain": [
       "array([0.10934853, 0.244268  , 0.2474312 ])"
      ]
     },
     "execution_count": 63,
     "metadata": {},
     "output_type": "execute_result"
    }
   ],
   "source": [
    "model.coef_"
   ]
  },
  {
   "cell_type": "code",
   "execution_count": 64,
   "id": "130a6073",
   "metadata": {},
   "outputs": [
    {
     "data": {
      "text/plain": [
       "35.69673648215492"
      ]
     },
     "execution_count": 64,
     "metadata": {},
     "output_type": "execute_result"
    }
   ],
   "source": [
    "model.intercept_"
   ]
  },
  {
   "cell_type": "code",
   "execution_count": 15,
   "id": "77dada00",
   "metadata": {},
   "outputs": [
    {
     "data": {
      "text/plain": [
       "(20, 5)"
      ]
     },
     "execution_count": 15,
     "metadata": {},
     "output_type": "execute_result"
    }
   ],
   "source": [
    "df.shape"
   ]
  },
  {
   "cell_type": "code",
   "execution_count": 16,
   "id": "12533cf3",
   "metadata": {},
   "outputs": [],
   "source": [
    "dof = 16"
   ]
  },
  {
   "cell_type": "code",
   "execution_count": 17,
   "id": "1e18c531",
   "metadata": {},
   "outputs": [
    {
     "data": {
      "text/plain": [
       "2.9207816223499976"
      ]
     },
     "execution_count": 17,
     "metadata": {},
     "output_type": "execute_result"
    }
   ],
   "source": [
    "stats.t.isf(.01/2, dof)"
   ]
  },
  {
   "cell_type": "code",
   "execution_count": 65,
   "id": "5af4e624",
   "metadata": {},
   "outputs": [],
   "source": [
    "sm_inputs = sm.add_constant(inputs)"
   ]
  },
  {
   "cell_type": "code",
   "execution_count": 66,
   "id": "7d06df12",
   "metadata": {},
   "outputs": [],
   "source": [
    "model_sum = sm.OLS(targets, sm_inputs).fit().summary()"
   ]
  },
  {
   "cell_type": "code",
   "execution_count": 67,
   "id": "e930ed2b",
   "metadata": {},
   "outputs": [
    {
     "data": {
      "text/html": [
       "<table class=\"simpletable\">\n",
       "<caption>OLS Regression Results</caption>\n",
       "<tr>\n",
       "  <th>Dep. Variable:</th>         <td>Overall</td>     <th>  R-squared:         </th> <td>   0.750</td>\n",
       "</tr>\n",
       "<tr>\n",
       "  <th>Model:</th>                   <td>OLS</td>       <th>  Adj. R-squared:    </th> <td>   0.703</td>\n",
       "</tr>\n",
       "<tr>\n",
       "  <th>Method:</th>             <td>Least Squares</td>  <th>  F-statistic:       </th> <td>   15.98</td>\n",
       "</tr>\n",
       "<tr>\n",
       "  <th>Date:</th>             <td>Sun, 13 Nov 2022</td> <th>  Prob (F-statistic):</th> <td>4.52e-05</td>\n",
       "</tr>\n",
       "<tr>\n",
       "  <th>Time:</th>                 <td>06:41:51</td>     <th>  Log-Likelihood:    </th> <td> -32.703</td>\n",
       "</tr>\n",
       "<tr>\n",
       "  <th>No. Observations:</th>      <td>    20</td>      <th>  AIC:               </th> <td>   73.41</td>\n",
       "</tr>\n",
       "<tr>\n",
       "  <th>Df Residuals:</th>          <td>    16</td>      <th>  BIC:               </th> <td>   77.39</td>\n",
       "</tr>\n",
       "<tr>\n",
       "  <th>Df Model:</th>              <td>     3</td>      <th>                     </th>     <td> </td>   \n",
       "</tr>\n",
       "<tr>\n",
       "  <th>Covariance Type:</th>      <td>nonrobust</td>    <th>                     </th>     <td> </td>   \n",
       "</tr>\n",
       "</table>\n",
       "<table class=\"simpletable\">\n",
       "<tr>\n",
       "         <td></td>            <th>coef</th>     <th>std err</th>      <th>t</th>      <th>P>|t|</th>  <th>[0.025</th>    <th>0.975]</th>  \n",
       "</tr>\n",
       "<tr>\n",
       "  <th>const</th>           <td>   35.6967</td> <td>   13.215</td> <td>    2.701</td> <td> 0.016</td> <td>    7.681</td> <td>   63.712</td>\n",
       "</tr>\n",
       "<tr>\n",
       "  <th>Comfort</th>         <td>    0.1093</td> <td>    0.130</td> <td>    0.843</td> <td> 0.412</td> <td>   -0.166</td> <td>    0.384</td>\n",
       "</tr>\n",
       "<tr>\n",
       "  <th>Amenities</th>       <td>    0.2443</td> <td>    0.043</td> <td>    5.639</td> <td> 0.000</td> <td>    0.152</td> <td>    0.336</td>\n",
       "</tr>\n",
       "<tr>\n",
       "  <th>In-House Dining</th> <td>    0.2474</td> <td>    0.062</td> <td>    3.983</td> <td> 0.001</td> <td>    0.116</td> <td>    0.379</td>\n",
       "</tr>\n",
       "</table>\n",
       "<table class=\"simpletable\">\n",
       "<tr>\n",
       "  <th>Omnibus:</th>       <td> 0.710</td> <th>  Durbin-Watson:     </th> <td>   1.575</td>\n",
       "</tr>\n",
       "<tr>\n",
       "  <th>Prob(Omnibus):</th> <td> 0.701</td> <th>  Jarque-Bera (JB):  </th> <td>   0.664</td>\n",
       "</tr>\n",
       "<tr>\n",
       "  <th>Skew:</th>          <td>-0.093</td> <th>  Prob(JB):          </th> <td>   0.718</td>\n",
       "</tr>\n",
       "<tr>\n",
       "  <th>Kurtosis:</th>      <td> 2.127</td> <th>  Cond. No.          </th> <td>6.62e+03</td>\n",
       "</tr>\n",
       "</table><br/><br/>Notes:<br/>[1] Standard Errors assume that the covariance matrix of the errors is correctly specified.<br/>[2] The condition number is large, 6.62e+03. This might indicate that there are<br/>strong multicollinearity or other numerical problems."
      ],
      "text/plain": [
       "<class 'statsmodels.iolib.summary.Summary'>\n",
       "\"\"\"\n",
       "                            OLS Regression Results                            \n",
       "==============================================================================\n",
       "Dep. Variable:                Overall   R-squared:                       0.750\n",
       "Model:                            OLS   Adj. R-squared:                  0.703\n",
       "Method:                 Least Squares   F-statistic:                     15.98\n",
       "Date:                Sun, 13 Nov 2022   Prob (F-statistic):           4.52e-05\n",
       "Time:                        06:41:51   Log-Likelihood:                -32.703\n",
       "No. Observations:                  20   AIC:                             73.41\n",
       "Df Residuals:                      16   BIC:                             77.39\n",
       "Df Model:                           3                                         \n",
       "Covariance Type:            nonrobust                                         \n",
       "===================================================================================\n",
       "                      coef    std err          t      P>|t|      [0.025      0.975]\n",
       "-----------------------------------------------------------------------------------\n",
       "const              35.6967     13.215      2.701      0.016       7.681      63.712\n",
       "Comfort             0.1093      0.130      0.843      0.412      -0.166       0.384\n",
       "Amenities           0.2443      0.043      5.639      0.000       0.152       0.336\n",
       "In-House Dining     0.2474      0.062      3.983      0.001       0.116       0.379\n",
       "==============================================================================\n",
       "Omnibus:                        0.710   Durbin-Watson:                   1.575\n",
       "Prob(Omnibus):                  0.701   Jarque-Bera (JB):                0.664\n",
       "Skew:                          -0.093   Prob(JB):                        0.718\n",
       "Kurtosis:                       2.127   Cond. No.                     6.62e+03\n",
       "==============================================================================\n",
       "\n",
       "Notes:\n",
       "[1] Standard Errors assume that the covariance matrix of the errors is correctly specified.\n",
       "[2] The condition number is large, 6.62e+03. This might indicate that there are\n",
       "strong multicollinearity or other numerical problems.\n",
       "\"\"\""
      ]
     },
     "execution_count": 67,
     "metadata": {},
     "output_type": "execute_result"
    }
   ],
   "source": [
    "model_sum"
   ]
  },
  {
   "cell_type": "code",
   "execution_count": null,
   "id": "056a8ec8",
   "metadata": {},
   "outputs": [],
   "source": []
  }
 ],
 "metadata": {
  "kernelspec": {
   "display_name": "Python 3 (ipykernel)",
   "language": "python",
   "name": "python3"
  },
  "language_info": {
   "codemirror_mode": {
    "name": "ipython",
    "version": 3
   },
   "file_extension": ".py",
   "mimetype": "text/x-python",
   "name": "python",
   "nbconvert_exporter": "python",
   "pygments_lexer": "ipython3",
   "version": "3.9.12"
  }
 },
 "nbformat": 4,
 "nbformat_minor": 5
}
