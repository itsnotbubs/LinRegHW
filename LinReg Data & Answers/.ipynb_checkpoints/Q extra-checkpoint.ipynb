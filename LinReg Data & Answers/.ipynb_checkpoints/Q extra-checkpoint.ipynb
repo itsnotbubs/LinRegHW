{
 "cells": [
  {
   "cell_type": "code",
   "execution_count": 1,
   "id": "e4b6e9b7",
   "metadata": {},
   "outputs": [],
   "source": [
    "import pandas as pd\n",
    "import matplotlib.pyplot as plt\n",
    "import numpy as np\n",
    "from sklearn.linear_model import LinearRegression\n",
    "import statsmodels.api as sm\n",
    "from scipy import stats\n",
    "import seaborn as sns"
   ]
  },
  {
   "cell_type": "code",
   "execution_count": 49,
   "id": "298c472b",
   "metadata": {},
   "outputs": [],
   "source": [
    "data = {'t':[4,0,3,5,6,1,5,7,7,4,6,8], 'q1':[1,0,0,0,1,0,0,0,1,0,0,0], 'q2':[0,1,0,0,0,1,0,0,0,1,0,0], 'q3':[0,0,1,0,0,0,1,0,0,0,1,0], 'q4': [0,0,0,1,0,0,0,1,0,0,0,1], 'y':[1,2,3,4,5,6,7,8,9,10,11,12]}"
   ]
  },
  {
   "cell_type": "code",
   "execution_count": 50,
   "id": "8b1cde60",
   "metadata": {},
   "outputs": [],
   "source": [
    "df = pd.DataFrame(data)"
   ]
  },
  {
   "cell_type": "code",
   "execution_count": 51,
   "id": "ad5e3304",
   "metadata": {},
   "outputs": [
    {
     "data": {
      "text/plain": [
       "<AxesSubplot:>"
      ]
     },
     "execution_count": 51,
     "metadata": {},
     "output_type": "execute_result"
    },
    {
     "data": {
      "image/png": "[encoded data removed]",
      "text/plain": [
       "<Figure size 432x288 with 1 Axes>"
      ]
     },
     "metadata": {
      "needs_background": "light"
     },
     "output_type": "display_data"
    }
   ],
   "source": [
    "df['t'].plot()"
   ]
  },
  {
   "cell_type": "code",
   "execution_count": 92,
   "id": "86193b99",
   "metadata": {},
   "outputs": [],
   "source": [
    "inputs = df[['q1','q2','q3','y']]\n",
    "targets = df['t']"
   ]
  },
  {
   "cell_type": "code",
   "execution_count": 93,
   "id": "6516fe0c",
   "metadata": {},
   "outputs": [],
   "source": [
    "sm_inputs = sm.add_constant(inputs)"
   ]
  },
  {
   "cell_type": "code",
   "execution_count": 94,
   "id": "ca863909",
   "metadata": {},
   "outputs": [],
   "source": [
    "model = sm.OLS(targets, sm_inputs).fit()"
   ]
  },
  {
   "cell_type": "code",
   "execution_count": 95,
   "id": "0646323d",
   "metadata": {},
   "outputs": [
    {
     "name": "stderr",
     "output_type": "stream",
     "text": [
      "/opt/miniconda3/lib/python3.9/site-packages/scipy/stats/_stats_py.py:1769: UserWarning: kurtosistest only valid for n>=20 ... continuing anyway, n=12\n",
      "  warnings.warn(\"kurtosistest only valid for n>=20 ... continuing \"\n"
     ]
    },
    {
     "data": {
      "text/html": [
       "<table class=\"simpletable\">\n",
       "<caption>OLS Regression Results</caption>\n",
       "<tr>\n",
       "  <th>Dep. Variable:</th>            <td>t</td>        <th>  R-squared:         </th> <td>   0.976</td>\n",
       "</tr>\n",
       "<tr>\n",
       "  <th>Model:</th>                   <td>OLS</td>       <th>  Adj. R-squared:    </th> <td>   0.963</td>\n",
       "</tr>\n",
       "<tr>\n",
       "  <th>Method:</th>             <td>Least Squares</td>  <th>  F-statistic:       </th> <td>   71.66</td>\n",
       "</tr>\n",
       "<tr>\n",
       "  <th>Date:</th>             <td>Fri, 18 Nov 2022</td> <th>  Prob (F-statistic):</th> <td>9.24e-06</td>\n",
       "</tr>\n",
       "<tr>\n",
       "  <th>Time:</th>                 <td>22:11:34</td>     <th>  Log-Likelihood:    </th> <td> -4.7150</td>\n",
       "</tr>\n",
       "<tr>\n",
       "  <th>No. Observations:</th>      <td>    12</td>      <th>  AIC:               </th> <td>   19.43</td>\n",
       "</tr>\n",
       "<tr>\n",
       "  <th>Df Residuals:</th>          <td>     7</td>      <th>  BIC:               </th> <td>   21.85</td>\n",
       "</tr>\n",
       "<tr>\n",
       "  <th>Df Model:</th>              <td>     4</td>      <th>                     </th>     <td> </td>   \n",
       "</tr>\n",
       "<tr>\n",
       "  <th>Covariance Type:</th>      <td>nonrobust</td>    <th>                     </th>     <td> </td>   \n",
       "</tr>\n",
       "</table>\n",
       "<table class=\"simpletable\">\n",
       "<tr>\n",
       "    <td></td>       <th>coef</th>     <th>std err</th>      <th>t</th>      <th>P>|t|</th>  <th>[0.025</th>    <th>0.975]</th>  \n",
       "</tr>\n",
       "<tr>\n",
       "  <th>const</th> <td>    3.4167</td> <td>    0.428</td> <td>    7.975</td> <td> 0.000</td> <td>    2.404</td> <td>    4.430</td>\n",
       "</tr>\n",
       "<tr>\n",
       "  <th>q1</th>    <td>    0.2187</td> <td>    0.403</td> <td>    0.543</td> <td> 0.604</td> <td>   -0.734</td> <td>    1.171</td>\n",
       "</tr>\n",
       "<tr>\n",
       "  <th>q2</th>    <td>   -4.1875</td> <td>    0.392</td> <td>  -10.681</td> <td> 0.000</td> <td>   -5.115</td> <td>   -3.260</td>\n",
       "</tr>\n",
       "<tr>\n",
       "  <th>q3</th>    <td>   -1.5937</td> <td>    0.385</td> <td>   -4.135</td> <td> 0.004</td> <td>   -2.505</td> <td>   -0.682</td>\n",
       "</tr>\n",
       "<tr>\n",
       "  <th>y</th>     <td>    0.4062</td> <td>    0.041</td> <td>    9.794</td> <td> 0.000</td> <td>    0.308</td> <td>    0.504</td>\n",
       "</tr>\n",
       "</table>\n",
       "<table class=\"simpletable\">\n",
       "<tr>\n",
       "  <th>Omnibus:</th>       <td> 0.169</td> <th>  Durbin-Watson:     </th> <td>   2.939</td>\n",
       "</tr>\n",
       "<tr>\n",
       "  <th>Prob(Omnibus):</th> <td> 0.919</td> <th>  Jarque-Bera (JB):  </th> <td>   0.154</td>\n",
       "</tr>\n",
       "<tr>\n",
       "  <th>Skew:</th>          <td> 0.173</td> <th>  Prob(JB):          </th> <td>   0.926</td>\n",
       "</tr>\n",
       "<tr>\n",
       "  <th>Kurtosis:</th>      <td> 2.565</td> <th>  Cond. No.          </th> <td>    36.2</td>\n",
       "</tr>\n",
       "</table><br/><br/>Notes:<br/>[1] Standard Errors assume that the covariance matrix of the errors is correctly specified."
      ],
      "text/plain": [
       "<class 'statsmodels.iolib.summary.Summary'>\n",
       "\"\"\"\n",
       "                            OLS Regression Results                            \n",
       "==============================================================================\n",
       "Dep. Variable:                      t   R-squared:                       0.976\n",
       "Model:                            OLS   Adj. R-squared:                  0.963\n",
       "Method:                 Least Squares   F-statistic:                     71.66\n",
       "Date:                Fri, 18 Nov 2022   Prob (F-statistic):           9.24e-06\n",
       "Time:                        22:11:34   Log-Likelihood:                -4.7150\n",
       "No. Observations:                  12   AIC:                             19.43\n",
       "Df Residuals:                       7   BIC:                             21.85\n",
       "Df Model:                           4                                         \n",
       "Covariance Type:            nonrobust                                         \n",
       "==============================================================================\n",
       "                 coef    std err          t      P>|t|      [0.025      0.975]\n",
       "------------------------------------------------------------------------------\n",
       "const          3.4167      0.428      7.975      0.000       2.404       4.430\n",
       "q1             0.2187      0.403      0.543      0.604      -0.734       1.171\n",
       "q2            -4.1875      0.392    -10.681      0.000      -5.115      -3.260\n",
       "q3            -1.5937      0.385     -4.135      0.004      -2.505      -0.682\n",
       "y              0.4062      0.041      9.794      0.000       0.308       0.504\n",
       "==============================================================================\n",
       "Omnibus:                        0.169   Durbin-Watson:                   2.939\n",
       "Prob(Omnibus):                  0.919   Jarque-Bera (JB):                0.154\n",
       "Skew:                           0.173   Prob(JB):                        0.926\n",
       "Kurtosis:                       2.565   Cond. No.                         36.2\n",
       "==============================================================================\n",
       "\n",
       "Notes:\n",
       "[1] Standard Errors assume that the covariance matrix of the errors is correctly specified.\n",
       "\"\"\""
      ]
     },
     "execution_count": 95,
     "metadata": {},
     "output_type": "execute_result"
    }
   ],
   "source": [
    "model.summary()"
   ]
  },
  {
   "cell_type": "code",
   "execution_count": 96,
   "id": "ba5fcfca",
   "metadata": {},
   "outputs": [
    {
     "data": {
      "text/plain": [
       "9.916666666666643"
      ]
     },
     "execution_count": 96,
     "metadata": {},
     "output_type": "execute_result"
    }
   ],
   "source": [
    "model.params[0] + model.params[4] * 16"
   ]
  },
  {
   "cell_type": "code",
   "execution_count": 97,
   "id": "a7b593a9",
   "metadata": {},
   "outputs": [],
   "source": [
    "predictions = model.predict(sm_inputs)"
   ]
  },
  {
   "cell_type": "code",
   "execution_count": 98,
   "id": "3edaa57d",
   "metadata": {},
   "outputs": [],
   "source": [
    "answer = (df['t'] - predictions)"
   ]
  },
  {
   "cell_type": "code",
   "execution_count": 99,
   "id": "0b84bf6b",
   "metadata": {},
   "outputs": [],
   "source": [
    "answer = answer**2"
   ]
  },
  {
   "cell_type": "code",
   "execution_count": 100,
   "id": "52f8f46a",
   "metadata": {},
   "outputs": [
    {
     "data": {
      "text/plain": [
       "0.12847222222222224"
      ]
     },
     "execution_count": 100,
     "metadata": {},
     "output_type": "execute_result"
    }
   ],
   "source": [
    "answer.mean()"
   ]
  },
  {
   "cell_type": "code",
   "execution_count": null,
   "id": "6c58dc8c",
   "metadata": {},
   "outputs": [],
   "source": []
  }
 ],
 "metadata": {
  "kernelspec": {
   "display_name": "Python 3 (ipykernel)",
   "language": "python",
   "name": "python3"
  },
  "language_info": {
   "codemirror_mode": {
    "name": "ipython",
    "version": 3
   },
   "file_extension": ".py",
   "mimetype": "text/x-python",
   "name": "python",
   "nbconvert_exporter": "python",
   "pygments_lexer": "ipython3",
   "version": "3.9.12"
  }
 },
 "nbformat": 4,
 "nbformat_minor": 5
}
