{
 "cells": [
  {
   "cell_type": "code",
   "execution_count": 9,
   "id": "50661ecb",
   "metadata": {},
   "outputs": [
    {
     "name": "stdout",
     "output_type": "stream",
     "text": [
      "Collecting openpyxl\n",
      "  Downloading openpyxl-3.0.10-py2.py3-none-any.whl (242 kB)\n",
      "\u001b[K     |████████████████████████████████| 242 kB 1.6 MB/s eta 0:00:01\n",
      "\u001b[?25hCollecting et-xmlfile\n",
      "  Downloading et_xmlfile-1.1.0-py3-none-any.whl (4.7 kB)\n",
      "Installing collected packages: et-xmlfile, openpyxl\n",
      "Successfully installed et-xmlfile-1.1.0 openpyxl-3.0.10\n"
     ]
    }
   ],
   "source": [
    "!pip install openpyxl"
   ]
  },
  {
   "cell_type": "code",
   "execution_count": 11,
   "id": "91de27a1",
   "metadata": {},
   "outputs": [],
   "source": [
    "import pandas as pd\n",
    "import matplotlib.pyplot as plt\n",
    "import numpy as np\n",
    "from sklearn.linear_model import LinearRegression"
   ]
  },
  {
   "cell_type": "code",
   "execution_count": 15,
   "id": "80f2770f",
   "metadata": {},
   "outputs": [
    {
     "data": {
      "text/html": [
       "<div>\n",
       "<style scoped>\n",
       "    .dataframe tbody tr th:only-of-type {\n",
       "        vertical-align: middle;\n",
       "    }\n",
       "\n",
       "    .dataframe tbody tr th {\n",
       "        vertical-align: top;\n",
       "    }\n",
       "\n",
       "    .dataframe thead th {\n",
       "        text-align: right;\n",
       "    }\n",
       "</style>\n",
       "<table border=\"1\" class=\"dataframe\">\n",
       "  <thead>\n",
       "    <tr style=\"text-align: right;\">\n",
       "      <th></th>\n",
       "      <th>Hours Spent Studying</th>\n",
       "      <th>Total Points Earned</th>\n",
       "    </tr>\n",
       "  </thead>\n",
       "  <tbody>\n",
       "    <tr>\n",
       "      <th>0</th>\n",
       "      <td>22</td>\n",
       "      <td>12</td>\n",
       "    </tr>\n",
       "    <tr>\n",
       "      <th>1</th>\n",
       "      <td>20</td>\n",
       "      <td>18</td>\n",
       "    </tr>\n",
       "    <tr>\n",
       "      <th>2</th>\n",
       "      <td>29</td>\n",
       "      <td>25</td>\n",
       "    </tr>\n",
       "    <tr>\n",
       "      <th>3</th>\n",
       "      <td>24</td>\n",
       "      <td>25</td>\n",
       "    </tr>\n",
       "    <tr>\n",
       "      <th>4</th>\n",
       "      <td>43</td>\n",
       "      <td>28</td>\n",
       "    </tr>\n",
       "    <tr>\n",
       "      <th>...</th>\n",
       "      <td>...</td>\n",
       "      <td>...</td>\n",
       "    </tr>\n",
       "    <tr>\n",
       "      <th>151</th>\n",
       "      <td>105</td>\n",
       "      <td>98</td>\n",
       "    </tr>\n",
       "    <tr>\n",
       "      <th>152</th>\n",
       "      <td>95</td>\n",
       "      <td>99</td>\n",
       "    </tr>\n",
       "    <tr>\n",
       "      <th>153</th>\n",
       "      <td>109</td>\n",
       "      <td>100</td>\n",
       "    </tr>\n",
       "    <tr>\n",
       "      <th>154</th>\n",
       "      <td>110</td>\n",
       "      <td>100</td>\n",
       "    </tr>\n",
       "    <tr>\n",
       "      <th>155</th>\n",
       "      <td>101</td>\n",
       "      <td>100</td>\n",
       "    </tr>\n",
       "  </tbody>\n",
       "</table>\n",
       "<p>156 rows × 2 columns</p>\n",
       "</div>"
      ],
      "text/plain": [
       "     Hours Spent Studying  Total Points Earned\n",
       "0                      22                   12\n",
       "1                      20                   18\n",
       "2                      29                   25\n",
       "3                      24                   25\n",
       "4                      43                   28\n",
       "..                    ...                  ...\n",
       "151                   105                   98\n",
       "152                    95                   99\n",
       "153                   109                  100\n",
       "154                   110                  100\n",
       "155                   101                  100\n",
       "\n",
       "[156 rows x 2 columns]"
      ]
     },
     "execution_count": 15,
     "metadata": {},
     "output_type": "execute_result"
    }
   ],
   "source": [
    "df = pd.read_excel('mkthrspts.xlsx')\n",
    "df"
   ]
  },
  {
   "cell_type": "code",
   "execution_count": 16,
   "id": "adcb5212",
   "metadata": {},
   "outputs": [
    {
     "data": {
      "text/plain": [
       "<matplotlib.collections.PathCollection at 0x130b203a0>"
      ]
     },
     "execution_count": 16,
     "metadata": {},
     "output_type": "execute_result"
    },
    {
     "data": {
      "image/png": "[encoded data removed]",
      "text/plain": [
       "<Figure size 432x288 with 1 Axes>"
      ]
     },
     "metadata": {
      "needs_background": "light"
     },
     "output_type": "display_data"
    }
   ],
   "source": [
    "plt.scatter(x='Hours Spent Studying', y='Total Points Earned', data=df)"
   ]
  },
  {
   "cell_type": "code",
   "execution_count": 35,
   "id": "b511ff41",
   "metadata": {},
   "outputs": [
    {
     "data": {
      "text/html": [
       "<div>\n",
       "<style scoped>\n",
       "    .dataframe tbody tr th:only-of-type {\n",
       "        vertical-align: middle;\n",
       "    }\n",
       "\n",
       "    .dataframe tbody tr th {\n",
       "        vertical-align: top;\n",
       "    }\n",
       "\n",
       "    .dataframe thead th {\n",
       "        text-align: right;\n",
       "    }\n",
       "</style>\n",
       "<table border=\"1\" class=\"dataframe\">\n",
       "  <thead>\n",
       "    <tr style=\"text-align: right;\">\n",
       "      <th></th>\n",
       "      <th>Hours Spent Studying</th>\n",
       "      <th>Total Points Earned</th>\n",
       "    </tr>\n",
       "  </thead>\n",
       "  <tbody>\n",
       "    <tr>\n",
       "      <th>Hours Spent Studying</th>\n",
       "      <td>382.869313</td>\n",
       "      <td>306.824897</td>\n",
       "    </tr>\n",
       "    <tr>\n",
       "      <th>Total Points Earned</th>\n",
       "      <td>306.824897</td>\n",
       "      <td>297.065467</td>\n",
       "    </tr>\n",
       "  </tbody>\n",
       "</table>\n",
       "</div>"
      ],
      "text/plain": [
       "                      Hours Spent Studying  Total Points Earned\n",
       "Hours Spent Studying            382.869313           306.824897\n",
       "Total Points Earned             306.824897           297.065467"
      ]
     },
     "execution_count": 35,
     "metadata": {},
     "output_type": "execute_result"
    }
   ],
   "source": []
  },
  {
   "cell_type": "code",
   "execution_count": 17,
   "id": "a61f3b36",
   "metadata": {},
   "outputs": [],
   "source": [
    "!pip install scikit-learn --quiet"
   ]
  },
  {
   "cell_type": "code",
   "execution_count": 18,
   "id": "1ca02445",
   "metadata": {},
   "outputs": [],
   "source": [
    "from sklearn.linear_model import LinearRegression"
   ]
  },
  {
   "cell_type": "code",
   "execution_count": 19,
   "id": "e61dcddd",
   "metadata": {},
   "outputs": [],
   "source": [
    "model = LinearRegression()"
   ]
  },
  {
   "cell_type": "code",
   "execution_count": 26,
   "id": "17f81d21",
   "metadata": {},
   "outputs": [],
   "source": [
    "inputs = df[['Hours Spent Studying']]\n",
    "targets = df[['Total Points Earned']]"
   ]
  },
  {
   "cell_type": "code",
   "execution_count": 27,
   "id": "4ca00069",
   "metadata": {
    "collapsed": true
   },
   "outputs": [
    {
     "data": {
      "text/html": [
       "<style>#sk-container-id-1 {color: black;background-color: white;}#sk-container-id-1 pre{padding: 0;}#sk-container-id-1 div.sk-toggleable {background-color: white;}#sk-container-id-1 label.sk-toggleable__label {cursor: pointer;display: block;width: 100%;margin-bottom: 0;padding: 0.3em;box-sizing: border-box;text-align: center;}#sk-container-id-1 label.sk-toggleable__label-arrow:before {content: \"▸\";float: left;margin-right: 0.25em;color: #696969;}#sk-container-id-1 label.sk-toggleable__label-arrow:hover:before {color: black;}#sk-container-id-1 div.sk-estimator:hover label.sk-toggleable__label-arrow:before {color: black;}#sk-container-id-1 div.sk-toggleable__content {max-height: 0;max-width: 0;overflow: hidden;text-align: left;background-color: #f0f8ff;}#sk-container-id-1 div.sk-toggleable__content pre {margin: 0.2em;color: black;border-radius: 0.25em;background-color: #f0f8ff;}#sk-container-id-1 input.sk-toggleable__control:checked~div.sk-toggleable__content {max-height: 200px;max-width: 100%;overflow: auto;}#sk-container-id-1 input.sk-toggleable__control:checked~label.sk-toggleable__label-arrow:before {content: \"▾\";}#sk-container-id-1 div.sk-estimator input.sk-toggleable__control:checked~label.sk-toggleable__label {background-color: #d4ebff;}#sk-container-id-1 div.sk-label input.sk-toggleable__control:checked~label.sk-toggleable__label {background-color: #d4ebff;}#sk-container-id-1 input.sk-hidden--visually {border: 0;clip: rect(1px 1px 1px 1px);clip: rect(1px, 1px, 1px, 1px);height: 1px;margin: -1px;overflow: hidden;padding: 0;position: absolute;width: 1px;}#sk-container-id-1 div.sk-estimator {font-family: monospace;background-color: #f0f8ff;border: 1px dotted black;border-radius: 0.25em;box-sizing: border-box;margin-bottom: 0.5em;}#sk-container-id-1 div.sk-estimator:hover {background-color: #d4ebff;}#sk-container-id-1 div.sk-parallel-item::after {content: \"\";width: 100%;border-bottom: 1px solid gray;flex-grow: 1;}#sk-container-id-1 div.sk-label:hover label.sk-toggleable__label {background-color: #d4ebff;}#sk-container-id-1 div.sk-serial::before {content: \"\";position: absolute;border-left: 1px solid gray;box-sizing: border-box;top: 0;bottom: 0;left: 50%;z-index: 0;}#sk-container-id-1 div.sk-serial {display: flex;flex-direction: column;align-items: center;background-color: white;padding-right: 0.2em;padding-left: 0.2em;position: relative;}#sk-container-id-1 div.sk-item {position: relative;z-index: 1;}#sk-container-id-1 div.sk-parallel {display: flex;align-items: stretch;justify-content: center;background-color: white;position: relative;}#sk-container-id-1 div.sk-item::before, #sk-container-id-1 div.sk-parallel-item::before {content: \"\";position: absolute;border-left: 1px solid gray;box-sizing: border-box;top: 0;bottom: 0;left: 50%;z-index: -1;}#sk-container-id-1 div.sk-parallel-item {display: flex;flex-direction: column;z-index: 1;position: relative;background-color: white;}#sk-container-id-1 div.sk-parallel-item:first-child::after {align-self: flex-end;width: 50%;}#sk-container-id-1 div.sk-parallel-item:last-child::after {align-self: flex-start;width: 50%;}#sk-container-id-1 div.sk-parallel-item:only-child::after {width: 0;}#sk-container-id-1 div.sk-dashed-wrapped {border: 1px dashed gray;margin: 0 0.4em 0.5em 0.4em;box-sizing: border-box;padding-bottom: 0.4em;background-color: white;}#sk-container-id-1 div.sk-label label {font-family: monospace;font-weight: bold;display: inline-block;line-height: 1.2em;}#sk-container-id-1 div.sk-label-container {text-align: center;}#sk-container-id-1 div.sk-container {/* jupyter's `normalize.less` sets `[hidden] { display: none; }` but bootstrap.min.css set `[hidden] { display: none !important; }` so we also need the `!important` here to be able to override the default hidden behavior on the sphinx rendered scikit-learn.org. See: https://github.com/scikit-learn/scikit-learn/issues/21755 */display: inline-block !important;position: relative;}#sk-container-id-1 div.sk-text-repr-fallback {display: none;}</style><div id=\"sk-container-id-1\" class=\"sk-top-container\"><div class=\"sk-text-repr-fallback\"><pre>LinearRegression()</pre><b>In a Jupyter environment, please rerun this cell to show the HTML representation or trust the notebook. <br />On GitHub, the HTML representation is unable to render, please try loading this page with nbviewer.org.</b></div><div class=\"sk-container\" hidden><div class=\"sk-item\"><div class=\"sk-estimator sk-toggleable\"><input class=\"sk-toggleable__control sk-hidden--visually\" id=\"sk-estimator-id-1\" type=\"checkbox\" checked><label for=\"sk-estimator-id-1\" class=\"sk-toggleable__label sk-toggleable__label-arrow\">LinearRegression</label><div class=\"sk-toggleable__content\"><pre>LinearRegression()</pre></div></div></div></div></div>"
      ],
      "text/plain": [
       "LinearRegression()"
      ]
     },
     "execution_count": 27,
     "metadata": {},
     "output_type": "execute_result"
    }
   ],
   "source": [
    "model.fit(inputs, targets)"
   ]
  },
  {
   "cell_type": "code",
   "execution_count": 31,
   "id": "f934b469",
   "metadata": {
    "collapsed": true
   },
   "outputs": [
    {
     "name": "stderr",
     "output_type": "stream",
     "text": [
      "/opt/miniconda3/lib/python3.9/site-packages/sklearn/base.py:450: UserWarning: X does not have valid feature names, but LinearRegression was fitted with feature names\n",
      "  warnings.warn(\n"
     ]
    },
    {
     "data": {
      "text/plain": [
       "array([[11.078373  ],\n",
       "       [11.87975584],\n",
       "       [12.68113867],\n",
       "       [16.68805286]])"
      ]
     },
     "execution_count": 31,
     "metadata": {},
     "output_type": "execute_result"
    }
   ],
   "source": [
    "model.predict(np.array([[3],[4], [5], [10]]))"
   ]
  },
  {
   "cell_type": "code",
   "execution_count": 32,
   "id": "248a2906",
   "metadata": {},
   "outputs": [],
   "source": [
    "predictions = model.predict(inputs)"
   ]
  },
  {
   "cell_type": "code",
   "execution_count": 33,
   "id": "8529f4f6",
   "metadata": {
    "collapsed": true
   },
   "outputs": [
    {
     "data": {
      "text/plain": [
       "array([[26.3046469 ],\n",
       "       [24.70188123],\n",
       "       [31.91432676],\n",
       "       [27.90741258],\n",
       "       [43.13368648],\n",
       "       [45.53783499],\n",
       "       [39.92815513],\n",
       "       [40.72953797],\n",
       "       [49.54474917],\n",
       "       [43.13368648],\n",
       "       [39.92815513],\n",
       "       [49.54474917],\n",
       "       [50.34613201],\n",
       "       [60.76410889],\n",
       "       [54.35304619],\n",
       "       [53.55166336],\n",
       "       [50.34613201],\n",
       "       [61.56549173],\n",
       "       [59.16134322],\n",
       "       [63.1682574 ],\n",
       "       [62.36687456],\n",
       "       [42.33230364],\n",
       "       [60.76410889],\n",
       "       [63.96964024],\n",
       "       [66.37378875],\n",
       "       [61.56549173],\n",
       "       [51.14751485],\n",
       "       [44.73645215],\n",
       "       [55.15442903],\n",
       "       [73.58623428],\n",
       "       [56.75719471],\n",
       "       [54.35304619],\n",
       "       [70.38070293],\n",
       "       [71.18208577],\n",
       "       [62.36687456],\n",
       "       [71.18208577],\n",
       "       [66.37378875],\n",
       "       [55.15442903],\n",
       "       [65.57240591],\n",
       "       [69.5793201 ],\n",
       "       [71.98346861],\n",
       "       [75.18899995],\n",
       "       [60.76410889],\n",
       "       [66.37378875],\n",
       "       [65.57240591],\n",
       "       [50.34613201],\n",
       "       [71.18208577],\n",
       "       [64.77102307],\n",
       "       [73.58623428],\n",
       "       [72.78485144],\n",
       "       [71.98346861],\n",
       "       [66.37378875],\n",
       "       [68.77793726],\n",
       "       [81.60006265],\n",
       "       [60.76410889],\n",
       "       [75.99038279],\n",
       "       [70.38070293],\n",
       "       [71.18208577],\n",
       "       [66.37378875],\n",
       "       [75.99038279],\n",
       "       [75.18899995],\n",
       "       [62.36687456],\n",
       "       [72.78485144],\n",
       "       [71.18208577],\n",
       "       [66.37378875],\n",
       "       [64.77102307],\n",
       "       [84.00421116],\n",
       "       [82.40144549],\n",
       "       [75.99038279],\n",
       "       [87.20974251],\n",
       "       [71.18208577],\n",
       "       [71.18208577],\n",
       "       [75.99038279],\n",
       "       [67.97655442],\n",
       "       [80.79867981],\n",
       "       [75.18899995],\n",
       "       [75.99038279],\n",
       "       [75.18899995],\n",
       "       [71.18208577],\n",
       "       [83.20282832],\n",
       "       [72.78485144],\n",
       "       [89.61389102],\n",
       "       [73.58623428],\n",
       "       [75.18899995],\n",
       "       [81.60006265],\n",
       "       [75.18899995],\n",
       "       [83.20282832],\n",
       "       [71.18208577],\n",
       "       [71.18208577],\n",
       "       [60.76410889],\n",
       "       [75.99038279],\n",
       "       [86.40835967],\n",
       "       [79.19591414],\n",
       "       [83.20282832],\n",
       "       [83.20282832],\n",
       "       [84.805594  ],\n",
       "       [84.805594  ],\n",
       "       [81.60006265],\n",
       "       [84.805594  ],\n",
       "       [84.00421116],\n",
       "       [84.805594  ],\n",
       "       [90.41527386],\n",
       "       [92.81942237],\n",
       "       [75.18899995],\n",
       "       [88.01112535],\n",
       "       [86.40835967],\n",
       "       [71.98346861],\n",
       "       [89.61389102],\n",
       "       [79.19591414],\n",
       "       [83.20282832],\n",
       "       [84.805594  ],\n",
       "       [84.00421116],\n",
       "       [92.01803953],\n",
       "       [79.19591414],\n",
       "       [72.78485144],\n",
       "       [87.20974251],\n",
       "       [75.18899995],\n",
       "       [81.60006265],\n",
       "       [80.79867981],\n",
       "       [75.18899995],\n",
       "       [82.40144549],\n",
       "       [79.19591414],\n",
       "       [88.01112535],\n",
       "       [89.61389102],\n",
       "       [89.61389102],\n",
       "       [88.01112535],\n",
       "       [90.41527386],\n",
       "       [75.99038279],\n",
       "       [96.82633655],\n",
       "       [83.20282832],\n",
       "       [92.81942237],\n",
       "       [96.02495371],\n",
       "       [81.60006265],\n",
       "       [92.01803953],\n",
       "       [84.805594  ],\n",
       "       [87.20974251],\n",
       "       [81.60006265],\n",
       "       [92.01803953],\n",
       "       [92.01803953],\n",
       "       [93.6208052 ],\n",
       "       [84.805594  ],\n",
       "       [93.6208052 ],\n",
       "       [82.40144549],\n",
       "       [89.61389102],\n",
       "       [84.805594  ],\n",
       "       [96.02495371],\n",
       "       [84.805594  ],\n",
       "       [89.61389102],\n",
       "       [92.81942237],\n",
       "       [92.01803953],\n",
       "       [92.01803953],\n",
       "       [92.81942237],\n",
       "       [84.805594  ],\n",
       "       [96.02495371],\n",
       "       [96.82633655],\n",
       "       [89.61389102]])"
      ]
     },
     "execution_count": 33,
     "metadata": {},
     "output_type": "execute_result"
    }
   ],
   "source": [
    "predictions"
   ]
  },
  {
   "cell_type": "code",
   "execution_count": 36,
   "id": "e5a80c1e",
   "metadata": {},
   "outputs": [
    {
     "data": {
      "text/html": [
       "<div>\n",
       "<style scoped>\n",
       "    .dataframe tbody tr th:only-of-type {\n",
       "        vertical-align: middle;\n",
       "    }\n",
       "\n",
       "    .dataframe tbody tr th {\n",
       "        vertical-align: top;\n",
       "    }\n",
       "\n",
       "    .dataframe thead th {\n",
       "        text-align: right;\n",
       "    }\n",
       "</style>\n",
       "<table border=\"1\" class=\"dataframe\">\n",
       "  <thead>\n",
       "    <tr style=\"text-align: right;\">\n",
       "      <th></th>\n",
       "      <th>Total Points Earned</th>\n",
       "    </tr>\n",
       "  </thead>\n",
       "  <tbody>\n",
       "    <tr>\n",
       "      <th>0</th>\n",
       "      <td>12</td>\n",
       "    </tr>\n",
       "    <tr>\n",
       "      <th>1</th>\n",
       "      <td>18</td>\n",
       "    </tr>\n",
       "    <tr>\n",
       "      <th>2</th>\n",
       "      <td>25</td>\n",
       "    </tr>\n",
       "    <tr>\n",
       "      <th>3</th>\n",
       "      <td>25</td>\n",
       "    </tr>\n",
       "    <tr>\n",
       "      <th>4</th>\n",
       "      <td>28</td>\n",
       "    </tr>\n",
       "    <tr>\n",
       "      <th>...</th>\n",
       "      <td>...</td>\n",
       "    </tr>\n",
       "    <tr>\n",
       "      <th>151</th>\n",
       "      <td>98</td>\n",
       "    </tr>\n",
       "    <tr>\n",
       "      <th>152</th>\n",
       "      <td>99</td>\n",
       "    </tr>\n",
       "    <tr>\n",
       "      <th>153</th>\n",
       "      <td>100</td>\n",
       "    </tr>\n",
       "    <tr>\n",
       "      <th>154</th>\n",
       "      <td>100</td>\n",
       "    </tr>\n",
       "    <tr>\n",
       "      <th>155</th>\n",
       "      <td>100</td>\n",
       "    </tr>\n",
       "  </tbody>\n",
       "</table>\n",
       "<p>156 rows × 1 columns</p>\n",
       "</div>"
      ],
      "text/plain": [
       "     Total Points Earned\n",
       "0                     12\n",
       "1                     18\n",
       "2                     25\n",
       "3                     25\n",
       "4                     28\n",
       "..                   ...\n",
       "151                   98\n",
       "152                   99\n",
       "153                  100\n",
       "154                  100\n",
       "155                  100\n",
       "\n",
       "[156 rows x 1 columns]"
      ]
     },
     "execution_count": 36,
     "metadata": {},
     "output_type": "execute_result"
    }
   ],
   "source": [
    "targets"
   ]
  },
  {
   "cell_type": "code",
   "execution_count": 38,
   "id": "5550cffb",
   "metadata": {},
   "outputs": [
    {
     "data": {
      "text/plain": [
       "0.82771049861156"
      ]
     },
     "execution_count": 38,
     "metadata": {},
     "output_type": "execute_result"
    }
   ],
   "source": [
    "model.score(inputs, targets)"
   ]
  },
  {
   "cell_type": "code",
   "execution_count": 40,
   "id": "924a57d8",
   "metadata": {},
   "outputs": [],
   "source": [
    "def rms(targets, predictions):\n",
    "    return np.sqrt(np.mean(np.square(targets - predictions)))"
   ]
  },
  {
   "cell_type": "code",
   "execution_count": 41,
   "id": "f5180e60",
   "metadata": {},
   "outputs": [
    {
     "name": "stderr",
     "output_type": "stream",
     "text": [
      "/opt/miniconda3/lib/python3.9/site-packages/numpy/core/fromnumeric.py:3430: FutureWarning: In a future version, DataFrame.mean(axis=None) will return a scalar mean over the entire DataFrame. To retain the old behavior, use 'frame.mean(axis=0)' or just 'frame.mean()'\n",
      "  return mean(axis=axis, dtype=dtype, out=out, **kwargs)\n"
     ]
    },
    {
     "data": {
      "text/plain": [
       "Total Points Earned    7.131141\n",
       "dtype: float64"
      ]
     },
     "execution_count": 41,
     "metadata": {},
     "output_type": "execute_result"
    }
   ],
   "source": [
    "rms(targets, predictions)"
   ]
  },
  {
   "cell_type": "code",
   "execution_count": 42,
   "id": "1aa6b1d9",
   "metadata": {},
   "outputs": [
    {
     "data": {
      "text/plain": [
       "array([[0.80138284]])"
      ]
     },
     "execution_count": 42,
     "metadata": {},
     "output_type": "execute_result"
    }
   ],
   "source": [
    "model.coef_"
   ]
  },
  {
   "cell_type": "code",
   "execution_count": 43,
   "id": "732643c2",
   "metadata": {},
   "outputs": [
    {
     "data": {
      "text/plain": [
       "array([8.67422449])"
      ]
     },
     "execution_count": 43,
     "metadata": {},
     "output_type": "execute_result"
    }
   ],
   "source": [
    "model.intercept_"
   ]
  },
  {
   "cell_type": "code",
   "execution_count": 45,
   "id": "e84788de",
   "metadata": {},
   "outputs": [
    {
     "name": "stderr",
     "output_type": "stream",
     "text": [
      "/opt/miniconda3/lib/python3.9/site-packages/sklearn/base.py:450: UserWarning: X does not have valid feature names, but LinearRegression was fitted with feature names\n",
      "  warnings.warn(\n"
     ]
    },
    {
     "data": {
      "text/plain": [
       "array([[76.79176563]])"
      ]
     },
     "execution_count": 45,
     "metadata": {},
     "output_type": "execute_result"
    }
   ],
   "source": [
    "model.predict(np.array([[85]]))"
   ]
  },
  {
   "cell_type": "code",
   "execution_count": null,
   "id": "6f8249a8",
   "metadata": {},
   "outputs": [],
   "source": []
  }
 ],
 "metadata": {
  "kernelspec": {
   "display_name": "Python 3 (ipykernel)",
   "language": "python",
   "name": "python3"
  },
  "language_info": {
   "codemirror_mode": {
    "name": "ipython",
    "version": 3
   },
   "file_extension": ".py",
   "mimetype": "text/x-python",
   "name": "python",
   "nbconvert_exporter": "python",
   "pygments_lexer": "ipython3",
   "version": "3.9.12"
  }
 },
 "nbformat": 4,
 "nbformat_minor": 5
}
