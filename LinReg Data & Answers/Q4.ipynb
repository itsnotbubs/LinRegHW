{
 "cells": [
  {
   "cell_type": "code",
   "execution_count": 1,
   "id": "053806f4",
   "metadata": {},
   "outputs": [],
   "source": [
    "import pandas as pd\n",
    "import matplotlib.pyplot as plt\n",
    "import numpy as np\n",
    "from sklearn.linear_model import LinearRegression\n",
    "import statsmodels.api as sm\n",
    "from scipy import stats\n",
    "import seaborn as sns"
   ]
  },
  {
   "cell_type": "code",
   "execution_count": 67,
   "id": "e0999563",
   "metadata": {},
   "outputs": [],
   "source": [
    "df = pd.read_excel('New Data.xlsx')"
   ]
  },
  {
   "cell_type": "code",
   "execution_count": 68,
   "id": "adeb9e80",
   "metadata": {},
   "outputs": [
    {
     "data": {
      "text/html": [
       "<div>\n",
       "<style scoped>\n",
       "    .dataframe tbody tr th:only-of-type {\n",
       "        vertical-align: middle;\n",
       "    }\n",
       "\n",
       "    .dataframe tbody tr th {\n",
       "        vertical-align: top;\n",
       "    }\n",
       "\n",
       "    .dataframe thead th {\n",
       "        text-align: right;\n",
       "    }\n",
       "</style>\n",
       "<table border=\"1\" class=\"dataframe\">\n",
       "  <thead>\n",
       "    <tr style=\"text-align: right;\">\n",
       "      <th></th>\n",
       "      <th>Car</th>\n",
       "      <th>Class</th>\n",
       "      <th>Displacement</th>\n",
       "      <th>Fuel Type</th>\n",
       "      <th>Hwy MPG</th>\n",
       "    </tr>\n",
       "  </thead>\n",
       "  <tbody>\n",
       "    <tr>\n",
       "      <th>0</th>\n",
       "      <td>1</td>\n",
       "      <td>Compact</td>\n",
       "      <td>3.1</td>\n",
       "      <td>P</td>\n",
       "      <td>25</td>\n",
       "    </tr>\n",
       "    <tr>\n",
       "      <th>1</th>\n",
       "      <td>2</td>\n",
       "      <td>Compact</td>\n",
       "      <td>3.1</td>\n",
       "      <td>P</td>\n",
       "      <td>25</td>\n",
       "    </tr>\n",
       "    <tr>\n",
       "      <th>2</th>\n",
       "      <td>3</td>\n",
       "      <td>Compact</td>\n",
       "      <td>3.0</td>\n",
       "      <td>P</td>\n",
       "      <td>25</td>\n",
       "    </tr>\n",
       "    <tr>\n",
       "      <th>3</th>\n",
       "      <td>4</td>\n",
       "      <td>Compact</td>\n",
       "      <td>3.0</td>\n",
       "      <td>P</td>\n",
       "      <td>25</td>\n",
       "    </tr>\n",
       "    <tr>\n",
       "      <th>4</th>\n",
       "      <td>5</td>\n",
       "      <td>Compact</td>\n",
       "      <td>3.0</td>\n",
       "      <td>P</td>\n",
       "      <td>25</td>\n",
       "    </tr>\n",
       "    <tr>\n",
       "      <th>5</th>\n",
       "      <td>6</td>\n",
       "      <td>Compact</td>\n",
       "      <td>3.0</td>\n",
       "      <td>P</td>\n",
       "      <td>25</td>\n",
       "    </tr>\n",
       "    <tr>\n",
       "      <th>6</th>\n",
       "      <td>7</td>\n",
       "      <td>Compact</td>\n",
       "      <td>2.4</td>\n",
       "      <td>P</td>\n",
       "      <td>25</td>\n",
       "    </tr>\n",
       "    <tr>\n",
       "      <th>7</th>\n",
       "      <td>8</td>\n",
       "      <td>Compact</td>\n",
       "      <td>3.5</td>\n",
       "      <td>P</td>\n",
       "      <td>25</td>\n",
       "    </tr>\n",
       "    <tr>\n",
       "      <th>8</th>\n",
       "      <td>9</td>\n",
       "      <td>Compact</td>\n",
       "      <td>3.0</td>\n",
       "      <td>P</td>\n",
       "      <td>25</td>\n",
       "    </tr>\n",
       "    <tr>\n",
       "      <th>9</th>\n",
       "      <td>10</td>\n",
       "      <td>Compact</td>\n",
       "      <td>2.4</td>\n",
       "      <td>P</td>\n",
       "      <td>24</td>\n",
       "    </tr>\n",
       "  </tbody>\n",
       "</table>\n",
       "</div>"
      ],
      "text/plain": [
       "   Car    Class  Displacement Fuel Type  Hwy MPG\n",
       "0    1  Compact           3.1         P       25\n",
       "1    2  Compact           3.1         P       25\n",
       "2    3  Compact           3.0         P       25\n",
       "3    4  Compact           3.0         P       25\n",
       "4    5  Compact           3.0         P       25\n",
       "5    6  Compact           3.0         P       25\n",
       "6    7  Compact           2.4         P       25\n",
       "7    8  Compact           3.5         P       25\n",
       "8    9  Compact           3.0         P       25\n",
       "9   10  Compact           2.4         P       24"
      ]
     },
     "execution_count": 68,
     "metadata": {},
     "output_type": "execute_result"
    }
   ],
   "source": [
    "df.head(10)"
   ]
  },
  {
   "cell_type": "code",
   "execution_count": 7,
   "id": "67e4b4d6",
   "metadata": {},
   "outputs": [
    {
     "data": {
      "text/plain": [
       "<bound method NDFrame.describe of      Car    Class  Displacement Fuel Type  Hwy MPG\n",
       "0      1  Compact           3.1         P       25\n",
       "1      2  Compact           3.1         P       25\n",
       "2      3  Compact           3.0         P       25\n",
       "3      4  Compact           3.0         P       25\n",
       "4      5  Compact           3.0         P       25\n",
       "..   ...      ...           ...       ...      ...\n",
       "306  307    Large           2.4         R       25\n",
       "307  308    Large           3.0         R       25\n",
       "308  309    Large           3.0         R       25\n",
       "309  310    Large           3.0         R       25\n",
       "310  311    Large           3.0         R       25\n",
       "\n",
       "[311 rows x 5 columns]>"
      ]
     },
     "execution_count": 7,
     "metadata": {},
     "output_type": "execute_result"
    }
   ],
   "source": [
    "df.describe"
   ]
  },
  {
   "cell_type": "code",
   "execution_count": 17,
   "id": "a5f598c9",
   "metadata": {},
   "outputs": [
    {
     "data": {
      "text/html": [
       "<div>\n",
       "<style scoped>\n",
       "    .dataframe tbody tr th:only-of-type {\n",
       "        vertical-align: middle;\n",
       "    }\n",
       "\n",
       "    .dataframe tbody tr th {\n",
       "        vertical-align: top;\n",
       "    }\n",
       "\n",
       "    .dataframe thead th {\n",
       "        text-align: right;\n",
       "    }\n",
       "</style>\n",
       "<table border=\"1\" class=\"dataframe\">\n",
       "  <thead>\n",
       "    <tr style=\"text-align: right;\">\n",
       "      <th></th>\n",
       "      <th>Car</th>\n",
       "      <th>Displacement</th>\n",
       "      <th>Hwy MPG</th>\n",
       "    </tr>\n",
       "  </thead>\n",
       "  <tbody>\n",
       "    <tr>\n",
       "      <th>Car</th>\n",
       "      <td>1.000000</td>\n",
       "      <td>-0.327073</td>\n",
       "      <td>0.301184</td>\n",
       "    </tr>\n",
       "    <tr>\n",
       "      <th>Displacement</th>\n",
       "      <td>-0.327073</td>\n",
       "      <td>1.000000</td>\n",
       "      <td>-0.833339</td>\n",
       "    </tr>\n",
       "    <tr>\n",
       "      <th>Hwy MPG</th>\n",
       "      <td>0.301184</td>\n",
       "      <td>-0.833339</td>\n",
       "      <td>1.000000</td>\n",
       "    </tr>\n",
       "  </tbody>\n",
       "</table>\n",
       "</div>"
      ],
      "text/plain": [
       "                   Car  Displacement   Hwy MPG\n",
       "Car           1.000000     -0.327073  0.301184\n",
       "Displacement -0.327073      1.000000 -0.833339\n",
       "Hwy MPG       0.301184     -0.833339  1.000000"
      ]
     },
     "execution_count": 17,
     "metadata": {},
     "output_type": "execute_result"
    }
   ],
   "source": [
    "df.corr()"
   ]
  },
  {
   "cell_type": "code",
   "execution_count": 71,
   "id": "ef63d907",
   "metadata": {},
   "outputs": [],
   "source": [
    "inputs, targets = df['Displacement'].array.reshape(-1,1), df['Hwy MPG'].array.reshape(-1,1)\n",
    "\n",
    "model = LinearRegression().fit(inputs, targets)\n",
    "\n",
    "predictions = model.predict(inputs)"
   ]
  },
  {
   "cell_type": "code",
   "execution_count": 72,
   "id": "4ddd8061",
   "metadata": {},
   "outputs": [
    {
     "data": {
      "text/plain": [
       "2.21756801383431"
      ]
     },
     "execution_count": 72,
     "metadata": {},
     "output_type": "execute_result"
    }
   ],
   "source": [
    "(predictions - targets).std()"
   ]
  },
  {
   "cell_type": "code",
   "execution_count": 73,
   "id": "a4f72873",
   "metadata": {},
   "outputs": [
    {
     "data": {
      "text/plain": [
       "array([[-2.88208887]])"
      ]
     },
     "execution_count": 73,
     "metadata": {},
     "output_type": "execute_result"
    }
   ],
   "source": [
    "model.coef_"
   ]
  },
  {
   "cell_type": "code",
   "execution_count": 74,
   "id": "bbd32e3c",
   "metadata": {},
   "outputs": [
    {
     "data": {
      "text/plain": [
       "array([35.39503926])"
      ]
     },
     "execution_count": 74,
     "metadata": {},
     "output_type": "execute_result"
    }
   ],
   "source": [
    "model.intercept_"
   ]
  },
  {
   "cell_type": "code",
   "execution_count": 84,
   "id": "af89b681",
   "metadata": {},
   "outputs": [
    {
     "data": {
      "text/plain": [
       "0.694453202395662"
      ]
     },
     "execution_count": 84,
     "metadata": {},
     "output_type": "execute_result"
    }
   ],
   "source": [
    "model.score(inputs, targets)"
   ]
  },
  {
   "cell_type": "code",
   "execution_count": 75,
   "id": "44cca041",
   "metadata": {},
   "outputs": [],
   "source": [
    "sm_inputs = sm.add_constant(df.Displacement)\n",
    "sm_targets = df['Hwy MPG']"
   ]
  },
  {
   "cell_type": "code",
   "execution_count": 76,
   "id": "7cb0ca3c",
   "metadata": {},
   "outputs": [],
   "source": [
    "model_sum = sm.OLS(sm_targets, sm_inputs).fit().summary()"
   ]
  },
  {
   "cell_type": "code",
   "execution_count": 77,
   "id": "dfc196bf",
   "metadata": {},
   "outputs": [
    {
     "data": {
      "text/html": [
       "<table class=\"simpletable\">\n",
       "<caption>OLS Regression Results</caption>\n",
       "<tr>\n",
       "  <th>Dep. Variable:</th>         <td>Hwy MPG</td>     <th>  R-squared:         </th> <td>   0.694</td>\n",
       "</tr>\n",
       "<tr>\n",
       "  <th>Model:</th>                   <td>OLS</td>       <th>  Adj. R-squared:    </th> <td>   0.693</td>\n",
       "</tr>\n",
       "<tr>\n",
       "  <th>Method:</th>             <td>Least Squares</td>  <th>  F-statistic:       </th> <td>   702.3</td>\n",
       "</tr>\n",
       "<tr>\n",
       "  <th>Date:</th>             <td>Sun, 13 Nov 2022</td> <th>  Prob (F-statistic):</th> <td>1.51e-81</td>\n",
       "</tr>\n",
       "<tr>\n",
       "  <th>Time:</th>                 <td>22:48:03</td>     <th>  Log-Likelihood:    </th> <td> -688.47</td>\n",
       "</tr>\n",
       "<tr>\n",
       "  <th>No. Observations:</th>      <td>   311</td>      <th>  AIC:               </th> <td>   1381.</td>\n",
       "</tr>\n",
       "<tr>\n",
       "  <th>Df Residuals:</th>          <td>   309</td>      <th>  BIC:               </th> <td>   1388.</td>\n",
       "</tr>\n",
       "<tr>\n",
       "  <th>Df Model:</th>              <td>     1</td>      <th>                     </th>     <td> </td>   \n",
       "</tr>\n",
       "<tr>\n",
       "  <th>Covariance Type:</th>      <td>nonrobust</td>    <th>                     </th>     <td> </td>   \n",
       "</tr>\n",
       "</table>\n",
       "<table class=\"simpletable\">\n",
       "<tr>\n",
       "        <td></td>          <th>coef</th>     <th>std err</th>      <th>t</th>      <th>P>|t|</th>  <th>[0.025</th>    <th>0.975]</th>  \n",
       "</tr>\n",
       "<tr>\n",
       "  <th>const</th>        <td>   35.3950</td> <td>    0.382</td> <td>   92.698</td> <td> 0.000</td> <td>   34.644</td> <td>   36.146</td>\n",
       "</tr>\n",
       "<tr>\n",
       "  <th>Displacement</th> <td>   -2.8821</td> <td>    0.109</td> <td>  -26.501</td> <td> 0.000</td> <td>   -3.096</td> <td>   -2.668</td>\n",
       "</tr>\n",
       "</table>\n",
       "<table class=\"simpletable\">\n",
       "<tr>\n",
       "  <th>Omnibus:</th>       <td> 3.308</td> <th>  Durbin-Watson:     </th> <td>   0.990</td>\n",
       "</tr>\n",
       "<tr>\n",
       "  <th>Prob(Omnibus):</th> <td> 0.191</td> <th>  Jarque-Bera (JB):  </th> <td>   3.206</td>\n",
       "</tr>\n",
       "<tr>\n",
       "  <th>Skew:</th>          <td> 0.198</td> <th>  Prob(JB):          </th> <td>   0.201</td>\n",
       "</tr>\n",
       "<tr>\n",
       "  <th>Kurtosis:</th>      <td> 2.700</td> <th>  Cond. No.          </th> <td>    11.4</td>\n",
       "</tr>\n",
       "</table><br/><br/>Notes:<br/>[1] Standard Errors assume that the covariance matrix of the errors is correctly specified."
      ],
      "text/plain": [
       "<class 'statsmodels.iolib.summary.Summary'>\n",
       "\"\"\"\n",
       "                            OLS Regression Results                            \n",
       "==============================================================================\n",
       "Dep. Variable:                Hwy MPG   R-squared:                       0.694\n",
       "Model:                            OLS   Adj. R-squared:                  0.693\n",
       "Method:                 Least Squares   F-statistic:                     702.3\n",
       "Date:                Sun, 13 Nov 2022   Prob (F-statistic):           1.51e-81\n",
       "Time:                        22:48:03   Log-Likelihood:                -688.47\n",
       "No. Observations:                 311   AIC:                             1381.\n",
       "Df Residuals:                     309   BIC:                             1388.\n",
       "Df Model:                           1                                         \n",
       "Covariance Type:            nonrobust                                         \n",
       "================================================================================\n",
       "                   coef    std err          t      P>|t|      [0.025      0.975]\n",
       "--------------------------------------------------------------------------------\n",
       "const           35.3950      0.382     92.698      0.000      34.644      36.146\n",
       "Displacement    -2.8821      0.109    -26.501      0.000      -3.096      -2.668\n",
       "==============================================================================\n",
       "Omnibus:                        3.308   Durbin-Watson:                   0.990\n",
       "Prob(Omnibus):                  0.191   Jarque-Bera (JB):                3.206\n",
       "Skew:                           0.198   Prob(JB):                        0.201\n",
       "Kurtosis:                       2.700   Cond. No.                         11.4\n",
       "==============================================================================\n",
       "\n",
       "Notes:\n",
       "[1] Standard Errors assume that the covariance matrix of the errors is correctly specified.\n",
       "\"\"\""
      ]
     },
     "execution_count": 77,
     "metadata": {},
     "output_type": "execute_result"
    }
   ],
   "source": [
    "model_sum"
   ]
  },
  {
   "cell_type": "code",
   "execution_count": 37,
   "id": "9974bfd5",
   "metadata": {},
   "outputs": [
    {
     "data": {
      "text/plain": [
       "1.967670885355754"
      ]
     },
     "execution_count": 37,
     "metadata": {},
     "output_type": "execute_result"
    }
   ],
   "source": [
    "dof = 309\n",
    "stats.t.isf(.05/2, dof)"
   ]
  },
  {
   "cell_type": "code",
   "execution_count": 38,
   "id": "517a3a61",
   "metadata": {},
   "outputs": [
    {
     "data": {
      "image/png": "[encoded data removed]",
      "text/plain": [
       "<Figure size 432x288 with 1 Axes>"
      ]
     },
     "metadata": {
      "needs_background": "light"
     },
     "output_type": "display_data"
    },
    {
     "data": {
      "text/plain": [
       "<Figure size 432x288 with 0 Axes>"
      ]
     },
     "metadata": {},
     "output_type": "display_data"
    }
   ],
   "source": [
    "sns.scatterplot(x = 'Displacement', y = 'Hwy MPG', hue = 'Class', palette = 'bright', data = df)\n",
    "plt.show()\n",
    "plt.clf()"
   ]
  },
  {
   "cell_type": "code",
   "execution_count": 69,
   "id": "03f5b8d8",
   "metadata": {},
   "outputs": [
    {
     "data": {
      "text/html": [
       "<div>\n",
       "<style scoped>\n",
       "    .dataframe tbody tr th:only-of-type {\n",
       "        vertical-align: middle;\n",
       "    }\n",
       "\n",
       "    .dataframe tbody tr th {\n",
       "        vertical-align: top;\n",
       "    }\n",
       "\n",
       "    .dataframe thead th {\n",
       "        text-align: right;\n",
       "    }\n",
       "</style>\n",
       "<table border=\"1\" class=\"dataframe\">\n",
       "  <thead>\n",
       "    <tr style=\"text-align: right;\">\n",
       "      <th></th>\n",
       "      <th>Car</th>\n",
       "      <th>Class</th>\n",
       "      <th>Displacement</th>\n",
       "      <th>Fuel Type</th>\n",
       "      <th>Hwy MPG</th>\n",
       "      <th>Class_Compact</th>\n",
       "      <th>Class_Large</th>\n",
       "      <th>Class_Midsize</th>\n",
       "    </tr>\n",
       "  </thead>\n",
       "  <tbody>\n",
       "    <tr>\n",
       "      <th>0</th>\n",
       "      <td>1</td>\n",
       "      <td>Compact</td>\n",
       "      <td>3.1</td>\n",
       "      <td>P</td>\n",
       "      <td>25</td>\n",
       "      <td>1</td>\n",
       "      <td>0</td>\n",
       "      <td>0</td>\n",
       "    </tr>\n",
       "    <tr>\n",
       "      <th>1</th>\n",
       "      <td>2</td>\n",
       "      <td>Compact</td>\n",
       "      <td>3.1</td>\n",
       "      <td>P</td>\n",
       "      <td>25</td>\n",
       "      <td>1</td>\n",
       "      <td>0</td>\n",
       "      <td>0</td>\n",
       "    </tr>\n",
       "    <tr>\n",
       "      <th>2</th>\n",
       "      <td>3</td>\n",
       "      <td>Compact</td>\n",
       "      <td>3.0</td>\n",
       "      <td>P</td>\n",
       "      <td>25</td>\n",
       "      <td>1</td>\n",
       "      <td>0</td>\n",
       "      <td>0</td>\n",
       "    </tr>\n",
       "    <tr>\n",
       "      <th>3</th>\n",
       "      <td>4</td>\n",
       "      <td>Compact</td>\n",
       "      <td>3.0</td>\n",
       "      <td>P</td>\n",
       "      <td>25</td>\n",
       "      <td>1</td>\n",
       "      <td>0</td>\n",
       "      <td>0</td>\n",
       "    </tr>\n",
       "    <tr>\n",
       "      <th>4</th>\n",
       "      <td>5</td>\n",
       "      <td>Compact</td>\n",
       "      <td>3.0</td>\n",
       "      <td>P</td>\n",
       "      <td>25</td>\n",
       "      <td>1</td>\n",
       "      <td>0</td>\n",
       "      <td>0</td>\n",
       "    </tr>\n",
       "    <tr>\n",
       "      <th>...</th>\n",
       "      <td>...</td>\n",
       "      <td>...</td>\n",
       "      <td>...</td>\n",
       "      <td>...</td>\n",
       "      <td>...</td>\n",
       "      <td>...</td>\n",
       "      <td>...</td>\n",
       "      <td>...</td>\n",
       "    </tr>\n",
       "    <tr>\n",
       "      <th>306</th>\n",
       "      <td>307</td>\n",
       "      <td>Large</td>\n",
       "      <td>2.4</td>\n",
       "      <td>R</td>\n",
       "      <td>25</td>\n",
       "      <td>0</td>\n",
       "      <td>1</td>\n",
       "      <td>0</td>\n",
       "    </tr>\n",
       "    <tr>\n",
       "      <th>307</th>\n",
       "      <td>308</td>\n",
       "      <td>Large</td>\n",
       "      <td>3.0</td>\n",
       "      <td>R</td>\n",
       "      <td>25</td>\n",
       "      <td>0</td>\n",
       "      <td>1</td>\n",
       "      <td>0</td>\n",
       "    </tr>\n",
       "    <tr>\n",
       "      <th>308</th>\n",
       "      <td>309</td>\n",
       "      <td>Large</td>\n",
       "      <td>3.0</td>\n",
       "      <td>R</td>\n",
       "      <td>25</td>\n",
       "      <td>0</td>\n",
       "      <td>1</td>\n",
       "      <td>0</td>\n",
       "    </tr>\n",
       "    <tr>\n",
       "      <th>309</th>\n",
       "      <td>310</td>\n",
       "      <td>Large</td>\n",
       "      <td>3.0</td>\n",
       "      <td>R</td>\n",
       "      <td>25</td>\n",
       "      <td>0</td>\n",
       "      <td>1</td>\n",
       "      <td>0</td>\n",
       "    </tr>\n",
       "    <tr>\n",
       "      <th>310</th>\n",
       "      <td>311</td>\n",
       "      <td>Large</td>\n",
       "      <td>3.0</td>\n",
       "      <td>R</td>\n",
       "      <td>25</td>\n",
       "      <td>0</td>\n",
       "      <td>1</td>\n",
       "      <td>0</td>\n",
       "    </tr>\n",
       "  </tbody>\n",
       "</table>\n",
       "<p>311 rows × 8 columns</p>\n",
       "</div>"
      ],
      "text/plain": [
       "     Car    Class  Displacement Fuel Type  Hwy MPG  Class_Compact  \\\n",
       "0      1  Compact           3.1         P       25              1   \n",
       "1      2  Compact           3.1         P       25              1   \n",
       "2      3  Compact           3.0         P       25              1   \n",
       "3      4  Compact           3.0         P       25              1   \n",
       "4      5  Compact           3.0         P       25              1   \n",
       "..   ...      ...           ...       ...      ...            ...   \n",
       "306  307    Large           2.4         R       25              0   \n",
       "307  308    Large           3.0         R       25              0   \n",
       "308  309    Large           3.0         R       25              0   \n",
       "309  310    Large           3.0         R       25              0   \n",
       "310  311    Large           3.0         R       25              0   \n",
       "\n",
       "     Class_Large  Class_Midsize  \n",
       "0              0              0  \n",
       "1              0              0  \n",
       "2              0              0  \n",
       "3              0              0  \n",
       "4              0              0  \n",
       "..           ...            ...  \n",
       "306            1              0  \n",
       "307            1              0  \n",
       "308            1              0  \n",
       "309            1              0  \n",
       "310            1              0  \n",
       "\n",
       "[311 rows x 8 columns]"
      ]
     },
     "execution_count": 69,
     "metadata": {},
     "output_type": "execute_result"
    }
   ],
   "source": [
    "dummies = pd.get_dummies(df['Class']).rename(columns=lambda x: 'Class_' + str(x))\n",
    "df = pd.concat([df, dummies], axis=1)\n",
    "df"
   ]
  },
  {
   "cell_type": "code",
   "execution_count": 85,
   "id": "229a9d4a",
   "metadata": {},
   "outputs": [],
   "source": [
    "inputs_2 = df[['Displacement','Class_Large', 'Class_Midsize']]\n",
    "\n",
    "model_2 = LinearRegression().fit(inputs_2, targets)\n",
    "\n",
    "predictions_2 = model_2.predict(inputs_2)"
   ]
  },
  {
   "cell_type": "code",
   "execution_count": 86,
   "id": "6c9ea298",
   "metadata": {},
   "outputs": [
    {
     "data": {
      "text/plain": [
       "array([[-1.66253607,  1.80472631,  4.46856027]])"
      ]
     },
     "execution_count": 86,
     "metadata": {},
     "output_type": "execute_result"
    }
   ],
   "source": [
    "model_2.coef_"
   ]
  },
  {
   "cell_type": "code",
   "execution_count": 87,
   "id": "b38f3a1a",
   "metadata": {},
   "outputs": [
    {
     "data": {
      "text/plain": [
       "array([29.03594642])"
      ]
     },
     "execution_count": 87,
     "metadata": {},
     "output_type": "execute_result"
    }
   ],
   "source": [
    "model_2.intercept_"
   ]
  },
  {
   "cell_type": "code",
   "execution_count": 88,
   "id": "27ab3b04",
   "metadata": {},
   "outputs": [],
   "source": [
    "sm_inputs_2 = sm.add_constant(inputs_2)\n",
    "sm_targets_2 = df['Hwy MPG']"
   ]
  },
  {
   "cell_type": "code",
   "execution_count": 89,
   "id": "7589c074",
   "metadata": {},
   "outputs": [
    {
     "data": {
      "text/html": [
       "<table class=\"simpletable\">\n",
       "<caption>OLS Regression Results</caption>\n",
       "<tr>\n",
       "  <th>Dep. Variable:</th>         <td>Hwy MPG</td>     <th>  R-squared:         </th> <td>   0.818</td> \n",
       "</tr>\n",
       "<tr>\n",
       "  <th>Model:</th>                   <td>OLS</td>       <th>  Adj. R-squared:    </th> <td>   0.816</td> \n",
       "</tr>\n",
       "<tr>\n",
       "  <th>Method:</th>             <td>Least Squares</td>  <th>  F-statistic:       </th> <td>   460.6</td> \n",
       "</tr>\n",
       "<tr>\n",
       "  <th>Date:</th>             <td>Sun, 13 Nov 2022</td> <th>  Prob (F-statistic):</th> <td>2.78e-113</td>\n",
       "</tr>\n",
       "<tr>\n",
       "  <th>Time:</th>                 <td>22:52:03</td>     <th>  Log-Likelihood:    </th> <td> -607.72</td> \n",
       "</tr>\n",
       "<tr>\n",
       "  <th>No. Observations:</th>      <td>   311</td>      <th>  AIC:               </th> <td>   1223.</td> \n",
       "</tr>\n",
       "<tr>\n",
       "  <th>Df Residuals:</th>          <td>   307</td>      <th>  BIC:               </th> <td>   1238.</td> \n",
       "</tr>\n",
       "<tr>\n",
       "  <th>Df Model:</th>              <td>     3</td>      <th>                     </th>     <td> </td>    \n",
       "</tr>\n",
       "<tr>\n",
       "  <th>Covariance Type:</th>      <td>nonrobust</td>    <th>                     </th>     <td> </td>    \n",
       "</tr>\n",
       "</table>\n",
       "<table class=\"simpletable\">\n",
       "<tr>\n",
       "        <td></td>           <th>coef</th>     <th>std err</th>      <th>t</th>      <th>P>|t|</th>  <th>[0.025</th>    <th>0.975]</th>  \n",
       "</tr>\n",
       "<tr>\n",
       "  <th>const</th>         <td>   29.0359</td> <td>    0.559</td> <td>   51.949</td> <td> 0.000</td> <td>   27.936</td> <td>   30.136</td>\n",
       "</tr>\n",
       "<tr>\n",
       "  <th>Displacement</th>  <td>   -1.6625</td> <td>    0.122</td> <td>  -13.633</td> <td> 0.000</td> <td>   -1.902</td> <td>   -1.423</td>\n",
       "</tr>\n",
       "<tr>\n",
       "  <th>Class_Large</th>   <td>    1.8047</td> <td>    0.305</td> <td>    5.909</td> <td> 0.000</td> <td>    1.204</td> <td>    2.406</td>\n",
       "</tr>\n",
       "<tr>\n",
       "  <th>Class_Midsize</th> <td>    4.4686</td> <td>    0.319</td> <td>   14.025</td> <td> 0.000</td> <td>    3.842</td> <td>    5.096</td>\n",
       "</tr>\n",
       "</table>\n",
       "<table class=\"simpletable\">\n",
       "<tr>\n",
       "  <th>Omnibus:</th>       <td> 6.710</td> <th>  Durbin-Watson:     </th> <td>   0.678</td>\n",
       "</tr>\n",
       "<tr>\n",
       "  <th>Prob(Omnibus):</th> <td> 0.035</td> <th>  Jarque-Bera (JB):  </th> <td>   6.958</td>\n",
       "</tr>\n",
       "<tr>\n",
       "  <th>Skew:</th>          <td> 0.269</td> <th>  Prob(JB):          </th> <td>  0.0308</td>\n",
       "</tr>\n",
       "<tr>\n",
       "  <th>Kurtosis:</th>      <td> 3.497</td> <th>  Cond. No.          </th> <td>    25.0</td>\n",
       "</tr>\n",
       "</table><br/><br/>Notes:<br/>[1] Standard Errors assume that the covariance matrix of the errors is correctly specified."
      ],
      "text/plain": [
       "<class 'statsmodels.iolib.summary.Summary'>\n",
       "\"\"\"\n",
       "                            OLS Regression Results                            \n",
       "==============================================================================\n",
       "Dep. Variable:                Hwy MPG   R-squared:                       0.818\n",
       "Model:                            OLS   Adj. R-squared:                  0.816\n",
       "Method:                 Least Squares   F-statistic:                     460.6\n",
       "Date:                Sun, 13 Nov 2022   Prob (F-statistic):          2.78e-113\n",
       "Time:                        22:52:03   Log-Likelihood:                -607.72\n",
       "No. Observations:                 311   AIC:                             1223.\n",
       "Df Residuals:                     307   BIC:                             1238.\n",
       "Df Model:                           3                                         \n",
       "Covariance Type:            nonrobust                                         \n",
       "=================================================================================\n",
       "                    coef    std err          t      P>|t|      [0.025      0.975]\n",
       "---------------------------------------------------------------------------------\n",
       "const            29.0359      0.559     51.949      0.000      27.936      30.136\n",
       "Displacement     -1.6625      0.122    -13.633      0.000      -1.902      -1.423\n",
       "Class_Large       1.8047      0.305      5.909      0.000       1.204       2.406\n",
       "Class_Midsize     4.4686      0.319     14.025      0.000       3.842       5.096\n",
       "==============================================================================\n",
       "Omnibus:                        6.710   Durbin-Watson:                   0.678\n",
       "Prob(Omnibus):                  0.035   Jarque-Bera (JB):                6.958\n",
       "Skew:                           0.269   Prob(JB):                       0.0308\n",
       "Kurtosis:                       3.497   Cond. No.                         25.0\n",
       "==============================================================================\n",
       "\n",
       "Notes:\n",
       "[1] Standard Errors assume that the covariance matrix of the errors is correctly specified.\n",
       "\"\"\""
      ]
     },
     "execution_count": 89,
     "metadata": {},
     "output_type": "execute_result"
    }
   ],
   "source": [
    "model_sum = sm.OLS(sm_targets_2, sm_inputs_2).fit().summary()\n",
    "model_sum"
   ]
  },
  {
   "cell_type": "code",
   "execution_count": 90,
   "id": "d297c9be",
   "metadata": {},
   "outputs": [
    {
     "data": {
      "text/plain": [
       "1.9677212881552217"
      ]
     },
     "execution_count": 90,
     "metadata": {},
     "output_type": "execute_result"
    }
   ],
   "source": [
    "dof = 307\n",
    "stats.t.isf(.05/2, dof)"
   ]
  },
  {
   "cell_type": "code",
   "execution_count": 96,
   "id": "6448775c",
   "metadata": {},
   "outputs": [
    {
     "data": {
      "text/html": [
       "<div>\n",
       "<style scoped>\n",
       "    .dataframe tbody tr th:only-of-type {\n",
       "        vertical-align: middle;\n",
       "    }\n",
       "\n",
       "    .dataframe tbody tr th {\n",
       "        vertical-align: top;\n",
       "    }\n",
       "\n",
       "    .dataframe thead th {\n",
       "        text-align: right;\n",
       "    }\n",
       "</style>\n",
       "<table border=\"1\" class=\"dataframe\">\n",
       "  <thead>\n",
       "    <tr style=\"text-align: right;\">\n",
       "      <th></th>\n",
       "      <th>Car</th>\n",
       "      <th>Class</th>\n",
       "      <th>Displacement</th>\n",
       "      <th>Fuel Type</th>\n",
       "      <th>Hwy MPG</th>\n",
       "      <th>Class_Compact</th>\n",
       "      <th>Class_Large</th>\n",
       "      <th>Class_Midsize</th>\n",
       "      <th>Fuel Type_P</th>\n",
       "      <th>Fuel Type_R</th>\n",
       "    </tr>\n",
       "  </thead>\n",
       "  <tbody>\n",
       "    <tr>\n",
       "      <th>0</th>\n",
       "      <td>1</td>\n",
       "      <td>Compact</td>\n",
       "      <td>3.1</td>\n",
       "      <td>P</td>\n",
       "      <td>25</td>\n",
       "      <td>1</td>\n",
       "      <td>0</td>\n",
       "      <td>0</td>\n",
       "      <td>1</td>\n",
       "      <td>0</td>\n",
       "    </tr>\n",
       "    <tr>\n",
       "      <th>1</th>\n",
       "      <td>2</td>\n",
       "      <td>Compact</td>\n",
       "      <td>3.1</td>\n",
       "      <td>P</td>\n",
       "      <td>25</td>\n",
       "      <td>1</td>\n",
       "      <td>0</td>\n",
       "      <td>0</td>\n",
       "      <td>1</td>\n",
       "      <td>0</td>\n",
       "    </tr>\n",
       "    <tr>\n",
       "      <th>2</th>\n",
       "      <td>3</td>\n",
       "      <td>Compact</td>\n",
       "      <td>3.0</td>\n",
       "      <td>P</td>\n",
       "      <td>25</td>\n",
       "      <td>1</td>\n",
       "      <td>0</td>\n",
       "      <td>0</td>\n",
       "      <td>1</td>\n",
       "      <td>0</td>\n",
       "    </tr>\n",
       "    <tr>\n",
       "      <th>3</th>\n",
       "      <td>4</td>\n",
       "      <td>Compact</td>\n",
       "      <td>3.0</td>\n",
       "      <td>P</td>\n",
       "      <td>25</td>\n",
       "      <td>1</td>\n",
       "      <td>0</td>\n",
       "      <td>0</td>\n",
       "      <td>1</td>\n",
       "      <td>0</td>\n",
       "    </tr>\n",
       "    <tr>\n",
       "      <th>4</th>\n",
       "      <td>5</td>\n",
       "      <td>Compact</td>\n",
       "      <td>3.0</td>\n",
       "      <td>P</td>\n",
       "      <td>25</td>\n",
       "      <td>1</td>\n",
       "      <td>0</td>\n",
       "      <td>0</td>\n",
       "      <td>1</td>\n",
       "      <td>0</td>\n",
       "    </tr>\n",
       "    <tr>\n",
       "      <th>...</th>\n",
       "      <td>...</td>\n",
       "      <td>...</td>\n",
       "      <td>...</td>\n",
       "      <td>...</td>\n",
       "      <td>...</td>\n",
       "      <td>...</td>\n",
       "      <td>...</td>\n",
       "      <td>...</td>\n",
       "      <td>...</td>\n",
       "      <td>...</td>\n",
       "    </tr>\n",
       "    <tr>\n",
       "      <th>306</th>\n",
       "      <td>307</td>\n",
       "      <td>Large</td>\n",
       "      <td>2.4</td>\n",
       "      <td>R</td>\n",
       "      <td>25</td>\n",
       "      <td>0</td>\n",
       "      <td>1</td>\n",
       "      <td>0</td>\n",
       "      <td>0</td>\n",
       "      <td>1</td>\n",
       "    </tr>\n",
       "    <tr>\n",
       "      <th>307</th>\n",
       "      <td>308</td>\n",
       "      <td>Large</td>\n",
       "      <td>3.0</td>\n",
       "      <td>R</td>\n",
       "      <td>25</td>\n",
       "      <td>0</td>\n",
       "      <td>1</td>\n",
       "      <td>0</td>\n",
       "      <td>0</td>\n",
       "      <td>1</td>\n",
       "    </tr>\n",
       "    <tr>\n",
       "      <th>308</th>\n",
       "      <td>309</td>\n",
       "      <td>Large</td>\n",
       "      <td>3.0</td>\n",
       "      <td>R</td>\n",
       "      <td>25</td>\n",
       "      <td>0</td>\n",
       "      <td>1</td>\n",
       "      <td>0</td>\n",
       "      <td>0</td>\n",
       "      <td>1</td>\n",
       "    </tr>\n",
       "    <tr>\n",
       "      <th>309</th>\n",
       "      <td>310</td>\n",
       "      <td>Large</td>\n",
       "      <td>3.0</td>\n",
       "      <td>R</td>\n",
       "      <td>25</td>\n",
       "      <td>0</td>\n",
       "      <td>1</td>\n",
       "      <td>0</td>\n",
       "      <td>0</td>\n",
       "      <td>1</td>\n",
       "    </tr>\n",
       "    <tr>\n",
       "      <th>310</th>\n",
       "      <td>311</td>\n",
       "      <td>Large</td>\n",
       "      <td>3.0</td>\n",
       "      <td>R</td>\n",
       "      <td>25</td>\n",
       "      <td>0</td>\n",
       "      <td>1</td>\n",
       "      <td>0</td>\n",
       "      <td>0</td>\n",
       "      <td>1</td>\n",
       "    </tr>\n",
       "  </tbody>\n",
       "</table>\n",
       "<p>311 rows × 10 columns</p>\n",
       "</div>"
      ],
      "text/plain": [
       "     Car    Class  Displacement Fuel Type  Hwy MPG  Class_Compact  \\\n",
       "0      1  Compact           3.1         P       25              1   \n",
       "1      2  Compact           3.1         P       25              1   \n",
       "2      3  Compact           3.0         P       25              1   \n",
       "3      4  Compact           3.0         P       25              1   \n",
       "4      5  Compact           3.0         P       25              1   \n",
       "..   ...      ...           ...       ...      ...            ...   \n",
       "306  307    Large           2.4         R       25              0   \n",
       "307  308    Large           3.0         R       25              0   \n",
       "308  309    Large           3.0         R       25              0   \n",
       "309  310    Large           3.0         R       25              0   \n",
       "310  311    Large           3.0         R       25              0   \n",
       "\n",
       "     Class_Large  Class_Midsize  Fuel Type_P  Fuel Type_R  \n",
       "0              0              0            1            0  \n",
       "1              0              0            1            0  \n",
       "2              0              0            1            0  \n",
       "3              0              0            1            0  \n",
       "4              0              0            1            0  \n",
       "..           ...            ...          ...          ...  \n",
       "306            1              0            0            1  \n",
       "307            1              0            0            1  \n",
       "308            1              0            0            1  \n",
       "309            1              0            0            1  \n",
       "310            1              0            0            1  \n",
       "\n",
       "[311 rows x 10 columns]"
      ]
     },
     "execution_count": 96,
     "metadata": {},
     "output_type": "execute_result"
    }
   ],
   "source": [
    "dummies = pd.get_dummies(df['Fuel Type']).rename(columns=lambda x: 'Fuel Type_' + str(x))\n",
    "df = pd.concat([df, dummies], axis=1)\n",
    "df"
   ]
  },
  {
   "cell_type": "code",
   "execution_count": 97,
   "id": "d05ef3f2",
   "metadata": {},
   "outputs": [],
   "source": [
    "inputs_3 = df[['Displacement','Class_Large', 'Class_Midsize', 'Fuel Type_P']]\n",
    "\n",
    "model_3 = LinearRegression().fit(inputs_2, targets)\n",
    "\n",
    "predictions_3 = model_3.predict(inputs_2)"
   ]
  },
  {
   "cell_type": "code",
   "execution_count": 98,
   "id": "43e14e3d",
   "metadata": {},
   "outputs": [],
   "source": [
    "sm_inputs_3 = sm.add_constant(inputs_3)\n",
    "sm_targets_3 = df['Hwy MPG']"
   ]
  },
  {
   "cell_type": "code",
   "execution_count": 99,
   "id": "d9b67904",
   "metadata": {},
   "outputs": [
    {
     "data": {
      "text/html": [
       "<table class=\"simpletable\">\n",
       "<caption>OLS Regression Results</caption>\n",
       "<tr>\n",
       "  <th>Dep. Variable:</th>         <td>Hwy MPG</td>     <th>  R-squared:         </th> <td>   0.834</td> \n",
       "</tr>\n",
       "<tr>\n",
       "  <th>Model:</th>                   <td>OLS</td>       <th>  Adj. R-squared:    </th> <td>   0.832</td> \n",
       "</tr>\n",
       "<tr>\n",
       "  <th>Method:</th>             <td>Least Squares</td>  <th>  F-statistic:       </th> <td>   383.9</td> \n",
       "</tr>\n",
       "<tr>\n",
       "  <th>Date:</th>             <td>Sun, 13 Nov 2022</td> <th>  Prob (F-statistic):</th> <td>7.06e-118</td>\n",
       "</tr>\n",
       "<tr>\n",
       "  <th>Time:</th>                 <td>22:58:41</td>     <th>  Log-Likelihood:    </th> <td> -593.75</td> \n",
       "</tr>\n",
       "<tr>\n",
       "  <th>No. Observations:</th>      <td>   311</td>      <th>  AIC:               </th> <td>   1197.</td> \n",
       "</tr>\n",
       "<tr>\n",
       "  <th>Df Residuals:</th>          <td>   306</td>      <th>  BIC:               </th> <td>   1216.</td> \n",
       "</tr>\n",
       "<tr>\n",
       "  <th>Df Model:</th>              <td>     4</td>      <th>                     </th>     <td> </td>    \n",
       "</tr>\n",
       "<tr>\n",
       "  <th>Covariance Type:</th>      <td>nonrobust</td>    <th>                     </th>     <td> </td>    \n",
       "</tr>\n",
       "</table>\n",
       "<table class=\"simpletable\">\n",
       "<tr>\n",
       "        <td></td>           <th>coef</th>     <th>std err</th>      <th>t</th>      <th>P>|t|</th>  <th>[0.025</th>    <th>0.975]</th>  \n",
       "</tr>\n",
       "<tr>\n",
       "  <th>const</th>         <td>   29.7624</td> <td>    0.552</td> <td>   53.905</td> <td> 0.000</td> <td>   28.676</td> <td>   30.849</td>\n",
       "</tr>\n",
       "<tr>\n",
       "  <th>Displacement</th>  <td>   -1.6347</td> <td>    0.117</td> <td>  -13.984</td> <td> 0.000</td> <td>   -1.865</td> <td>   -1.405</td>\n",
       "</tr>\n",
       "<tr>\n",
       "  <th>Class_Large</th>   <td>    1.6450</td> <td>    0.294</td> <td>    5.595</td> <td> 0.000</td> <td>    1.066</td> <td>    2.223</td>\n",
       "</tr>\n",
       "<tr>\n",
       "  <th>Class_Midsize</th> <td>    3.9634</td> <td>    0.319</td> <td>   12.411</td> <td> 0.000</td> <td>    3.335</td> <td>    4.592</td>\n",
       "</tr>\n",
       "<tr>\n",
       "  <th>Fuel Type_P</th>   <td>   -1.1210</td> <td>    0.209</td> <td>   -5.364</td> <td> 0.000</td> <td>   -1.532</td> <td>   -0.710</td>\n",
       "</tr>\n",
       "</table>\n",
       "<table class=\"simpletable\">\n",
       "<tr>\n",
       "  <th>Omnibus:</th>       <td> 8.552</td> <th>  Durbin-Watson:     </th> <td>   0.740</td>\n",
       "</tr>\n",
       "<tr>\n",
       "  <th>Prob(Omnibus):</th> <td> 0.014</td> <th>  Jarque-Bera (JB):  </th> <td>  11.608</td>\n",
       "</tr>\n",
       "<tr>\n",
       "  <th>Skew:</th>          <td> 0.212</td> <th>  Prob(JB):          </th> <td> 0.00302</td>\n",
       "</tr>\n",
       "<tr>\n",
       "  <th>Kurtosis:</th>      <td> 3.846</td> <th>  Cond. No.          </th> <td>    26.2</td>\n",
       "</tr>\n",
       "</table><br/><br/>Notes:<br/>[1] Standard Errors assume that the covariance matrix of the errors is correctly specified."
      ],
      "text/plain": [
       "<class 'statsmodels.iolib.summary.Summary'>\n",
       "\"\"\"\n",
       "                            OLS Regression Results                            \n",
       "==============================================================================\n",
       "Dep. Variable:                Hwy MPG   R-squared:                       0.834\n",
       "Model:                            OLS   Adj. R-squared:                  0.832\n",
       "Method:                 Least Squares   F-statistic:                     383.9\n",
       "Date:                Sun, 13 Nov 2022   Prob (F-statistic):          7.06e-118\n",
       "Time:                        22:58:41   Log-Likelihood:                -593.75\n",
       "No. Observations:                 311   AIC:                             1197.\n",
       "Df Residuals:                     306   BIC:                             1216.\n",
       "Df Model:                           4                                         \n",
       "Covariance Type:            nonrobust                                         \n",
       "=================================================================================\n",
       "                    coef    std err          t      P>|t|      [0.025      0.975]\n",
       "---------------------------------------------------------------------------------\n",
       "const            29.7624      0.552     53.905      0.000      28.676      30.849\n",
       "Displacement     -1.6347      0.117    -13.984      0.000      -1.865      -1.405\n",
       "Class_Large       1.6450      0.294      5.595      0.000       1.066       2.223\n",
       "Class_Midsize     3.9634      0.319     12.411      0.000       3.335       4.592\n",
       "Fuel Type_P      -1.1210      0.209     -5.364      0.000      -1.532      -0.710\n",
       "==============================================================================\n",
       "Omnibus:                        8.552   Durbin-Watson:                   0.740\n",
       "Prob(Omnibus):                  0.014   Jarque-Bera (JB):               11.608\n",
       "Skew:                           0.212   Prob(JB):                      0.00302\n",
       "Kurtosis:                       3.846   Cond. No.                         26.2\n",
       "==============================================================================\n",
       "\n",
       "Notes:\n",
       "[1] Standard Errors assume that the covariance matrix of the errors is correctly specified.\n",
       "\"\"\""
      ]
     },
     "execution_count": 99,
     "metadata": {},
     "output_type": "execute_result"
    }
   ],
   "source": [
    "model_sum = sm.OLS(sm_targets_3, sm_inputs_3).fit().summary()\n",
    "model_sum"
   ]
  },
  {
   "cell_type": "code",
   "execution_count": 100,
   "id": "5e3e5f03",
   "metadata": {},
   "outputs": [
    {
     "data": {
      "text/plain": [
       "1.967746737589231"
      ]
     },
     "execution_count": 100,
     "metadata": {},
     "output_type": "execute_result"
    }
   ],
   "source": [
    "dof = 306\n",
    "stats.t.isf(.05/2, dof)"
   ]
  },
  {
   "cell_type": "code",
   "execution_count": null,
   "id": "5a12e2c6",
   "metadata": {},
   "outputs": [],
   "source": []
  }
 ],
 "metadata": {
  "kernelspec": {
   "display_name": "Python 3 (ipykernel)",
   "language": "python",
   "name": "python3"
  },
  "language_info": {
   "codemirror_mode": {
    "name": "ipython",
    "version": 3
   },
   "file_extension": ".py",
   "mimetype": "text/x-python",
   "name": "python",
   "nbconvert_exporter": "python",
   "pygments_lexer": "ipython3",
   "version": "3.9.12"
  }
 },
 "nbformat": 4,
 "nbformat_minor": 5
}
